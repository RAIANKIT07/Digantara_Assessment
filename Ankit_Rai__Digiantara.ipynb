{
  "nbformat": 4,
  "nbformat_minor": 0,
  "metadata": {
    "colab": {
      "provenance": [],
      "gpuType": "T4"
    },
    "kernelspec": {
      "name": "python3",
      "display_name": "Python 3"
    },
    "language_info": {
      "name": "python"
    }
  },
  "cells": [
    {
      "cell_type": "markdown",
      "source": [
        "# Question 1\n",
        "A) Derive high level analytics from the whole data set for a single day. In other\n",
        "words, derive general analytics of the whole set of conjunction scenarios (for e.g.\n",
        "number of conjunctions among active satellites). The analytics should be intuitive\n",
        "and represented in an easily understandable format.\n",
        "\n"
      ],
      "metadata": {
        "id": "neBCV2gfz4Va"
      }
    },
    {
      "cell_type": "code",
      "source": [
        "import numpy as np\n",
        "import pandas as pd\n",
        "import matplotlib.pyplot as plt\n",
        "%matplotlib inline\n",
        "import seaborn as sns\n",
        "plt.style.use('seaborn-white')\n",
        "import plotly.express as px\n",
        "from datetime import datetime"
      ],
      "metadata": {
        "colab": {
          "base_uri": "https://localhost:8080/"
        },
        "id": "wKOAKz_JOI-n",
        "outputId": "85eb35bd-288d-470a-c748-d8660e3afdf8"
      },
      "execution_count": 4,
      "outputs": [
        {
          "output_type": "stream",
          "name": "stderr",
          "text": [
            "<ipython-input-4-8ce6b56c3a2b>:6: MatplotlibDeprecationWarning: The seaborn styles shipped by Matplotlib are deprecated since 3.6, as they no longer correspond to the styles shipped by seaborn. However, they will remain available as 'seaborn-v0_8-<style>'. Alternatively, directly use the seaborn API instead.\n",
            "  plt.style.use('seaborn-white')\n"
          ]
        }
      ]
    },
    {
      "cell_type": "code",
      "source": [
        "#mounting drive to load dataset\n",
        "from google.colab import drive\n",
        "drive.mount('/content/drive')"
      ],
      "metadata": {
        "colab": {
          "base_uri": "https://localhost:8080/"
        },
        "id": "PExHiRT6Oubw",
        "outputId": "a53a40a3-696b-4715-faf5-f232919fc848"
      },
      "execution_count": 5,
      "outputs": [
        {
          "output_type": "stream",
          "name": "stdout",
          "text": [
            "Mounted at /content/drive\n"
          ]
        }
      ]
    },
    {
      "cell_type": "code",
      "source": [
        "path = '/content/drive/My Drive/'"
      ],
      "metadata": {
        "id": "KrdIZytLQBhN"
      },
      "execution_count": 6,
      "outputs": []
    },
    {
      "cell_type": "code",
      "source": [
        "#Loading the data set\n",
        "df = pd.read_csv('/content/drive/MyDrive/Digiantara/sort-minRange.csv')"
      ],
      "metadata": {
        "id": "HdLrFpDrQk1U"
      },
      "execution_count": 7,
      "outputs": []
    },
    {
      "cell_type": "code",
      "source": [
        "#sample of data set\n",
        "df.head()"
      ],
      "metadata": {
        "colab": {
          "base_uri": "https://localhost:8080/",
          "height": 293
        },
        "id": "X54tw8z6Q1ry",
        "outputId": "04c30044-2032-4846-c5cd-3943ae12011a"
      },
      "execution_count": 8,
      "outputs": [
        {
          "output_type": "execute_result",
          "data": {
            "text/plain": [
              "   NORAD_CAT_ID_1                 OBJECT_NAME_1  DSE_1  NORAD_CAT_ID_2  \\\n",
              "0           46943                     BRO-3 [+]  1.034           56798   \n",
              "1           57342             STARLINK-6375 [+]  6.817           27226   \n",
              "2           57192     SITRO-AIS 6 (CHIRKIN) [+]  6.431           17316   \n",
              "3           57106             STARLINK-6118 [+]  5.283           57184   \n",
              "4           37930  CHUANGXIN 1-03 (CX-1-03) [+]  5.496           42391   \n",
              "\n",
              "           OBJECT_NAME_2  DSE_2                      TCA  TCA_RANGE  \\\n",
              "0      STARLINK-6068 [+]  1.071  2023-11-10 19:41:58.190      0.017   \n",
              "1           PSLV DEB [-]  8.764  2023-11-16 14:43:00.723      0.021   \n",
              "2       ARIANE 1 DEB [-]  6.845  2023-11-16 06:09:36.351      0.023   \n",
              "3  MONITOR-2 (RS39S) [+]  4.654  2023-11-14 11:26:42.273      0.049   \n",
              "4        NOAA 16 DEB [-]  7.835  2023-11-15 07:09:41.444      0.054   \n",
              "\n",
              "   TCA_RELATIVE_SPEED  MAX_PROB  DILUTION  \n",
              "0              14.823  0.006440     0.010  \n",
              "1              14.114  0.004623     0.011  \n",
              "2              11.982  0.005572     0.008  \n",
              "3              14.270  0.000843     0.025  \n",
              "4              14.738  0.000549     0.035  "
            ],
            "text/html": [
              "\n",
              "  <div id=\"df-3c9d9bad-7870-4ae6-b400-c96d66bff27c\" class=\"colab-df-container\">\n",
              "    <div>\n",
              "<style scoped>\n",
              "    .dataframe tbody tr th:only-of-type {\n",
              "        vertical-align: middle;\n",
              "    }\n",
              "\n",
              "    .dataframe tbody tr th {\n",
              "        vertical-align: top;\n",
              "    }\n",
              "\n",
              "    .dataframe thead th {\n",
              "        text-align: right;\n",
              "    }\n",
              "</style>\n",
              "<table border=\"1\" class=\"dataframe\">\n",
              "  <thead>\n",
              "    <tr style=\"text-align: right;\">\n",
              "      <th></th>\n",
              "      <th>NORAD_CAT_ID_1</th>\n",
              "      <th>OBJECT_NAME_1</th>\n",
              "      <th>DSE_1</th>\n",
              "      <th>NORAD_CAT_ID_2</th>\n",
              "      <th>OBJECT_NAME_2</th>\n",
              "      <th>DSE_2</th>\n",
              "      <th>TCA</th>\n",
              "      <th>TCA_RANGE</th>\n",
              "      <th>TCA_RELATIVE_SPEED</th>\n",
              "      <th>MAX_PROB</th>\n",
              "      <th>DILUTION</th>\n",
              "    </tr>\n",
              "  </thead>\n",
              "  <tbody>\n",
              "    <tr>\n",
              "      <th>0</th>\n",
              "      <td>46943</td>\n",
              "      <td>BRO-3 [+]</td>\n",
              "      <td>1.034</td>\n",
              "      <td>56798</td>\n",
              "      <td>STARLINK-6068 [+]</td>\n",
              "      <td>1.071</td>\n",
              "      <td>2023-11-10 19:41:58.190</td>\n",
              "      <td>0.017</td>\n",
              "      <td>14.823</td>\n",
              "      <td>0.006440</td>\n",
              "      <td>0.010</td>\n",
              "    </tr>\n",
              "    <tr>\n",
              "      <th>1</th>\n",
              "      <td>57342</td>\n",
              "      <td>STARLINK-6375 [+]</td>\n",
              "      <td>6.817</td>\n",
              "      <td>27226</td>\n",
              "      <td>PSLV DEB [-]</td>\n",
              "      <td>8.764</td>\n",
              "      <td>2023-11-16 14:43:00.723</td>\n",
              "      <td>0.021</td>\n",
              "      <td>14.114</td>\n",
              "      <td>0.004623</td>\n",
              "      <td>0.011</td>\n",
              "    </tr>\n",
              "    <tr>\n",
              "      <th>2</th>\n",
              "      <td>57192</td>\n",
              "      <td>SITRO-AIS 6 (CHIRKIN) [+]</td>\n",
              "      <td>6.431</td>\n",
              "      <td>17316</td>\n",
              "      <td>ARIANE 1 DEB [-]</td>\n",
              "      <td>6.845</td>\n",
              "      <td>2023-11-16 06:09:36.351</td>\n",
              "      <td>0.023</td>\n",
              "      <td>11.982</td>\n",
              "      <td>0.005572</td>\n",
              "      <td>0.008</td>\n",
              "    </tr>\n",
              "    <tr>\n",
              "      <th>3</th>\n",
              "      <td>57106</td>\n",
              "      <td>STARLINK-6118 [+]</td>\n",
              "      <td>5.283</td>\n",
              "      <td>57184</td>\n",
              "      <td>MONITOR-2 (RS39S) [+]</td>\n",
              "      <td>4.654</td>\n",
              "      <td>2023-11-14 11:26:42.273</td>\n",
              "      <td>0.049</td>\n",
              "      <td>14.270</td>\n",
              "      <td>0.000843</td>\n",
              "      <td>0.025</td>\n",
              "    </tr>\n",
              "    <tr>\n",
              "      <th>4</th>\n",
              "      <td>37930</td>\n",
              "      <td>CHUANGXIN 1-03 (CX-1-03) [+]</td>\n",
              "      <td>5.496</td>\n",
              "      <td>42391</td>\n",
              "      <td>NOAA 16 DEB [-]</td>\n",
              "      <td>7.835</td>\n",
              "      <td>2023-11-15 07:09:41.444</td>\n",
              "      <td>0.054</td>\n",
              "      <td>14.738</td>\n",
              "      <td>0.000549</td>\n",
              "      <td>0.035</td>\n",
              "    </tr>\n",
              "  </tbody>\n",
              "</table>\n",
              "</div>\n",
              "    <div class=\"colab-df-buttons\">\n",
              "\n",
              "  <div class=\"colab-df-container\">\n",
              "    <button class=\"colab-df-convert\" onclick=\"convertToInteractive('df-3c9d9bad-7870-4ae6-b400-c96d66bff27c')\"\n",
              "            title=\"Convert this dataframe to an interactive table.\"\n",
              "            style=\"display:none;\">\n",
              "\n",
              "  <svg xmlns=\"http://www.w3.org/2000/svg\" height=\"24px\" viewBox=\"0 -960 960 960\">\n",
              "    <path d=\"M120-120v-720h720v720H120Zm60-500h600v-160H180v160Zm220 220h160v-160H400v160Zm0 220h160v-160H400v160ZM180-400h160v-160H180v160Zm440 0h160v-160H620v160ZM180-180h160v-160H180v160Zm440 0h160v-160H620v160Z\"/>\n",
              "  </svg>\n",
              "    </button>\n",
              "\n",
              "  <style>\n",
              "    .colab-df-container {\n",
              "      display:flex;\n",
              "      gap: 12px;\n",
              "    }\n",
              "\n",
              "    .colab-df-convert {\n",
              "      background-color: #E8F0FE;\n",
              "      border: none;\n",
              "      border-radius: 50%;\n",
              "      cursor: pointer;\n",
              "      display: none;\n",
              "      fill: #1967D2;\n",
              "      height: 32px;\n",
              "      padding: 0 0 0 0;\n",
              "      width: 32px;\n",
              "    }\n",
              "\n",
              "    .colab-df-convert:hover {\n",
              "      background-color: #E2EBFA;\n",
              "      box-shadow: 0px 1px 2px rgba(60, 64, 67, 0.3), 0px 1px 3px 1px rgba(60, 64, 67, 0.15);\n",
              "      fill: #174EA6;\n",
              "    }\n",
              "\n",
              "    .colab-df-buttons div {\n",
              "      margin-bottom: 4px;\n",
              "    }\n",
              "\n",
              "    [theme=dark] .colab-df-convert {\n",
              "      background-color: #3B4455;\n",
              "      fill: #D2E3FC;\n",
              "    }\n",
              "\n",
              "    [theme=dark] .colab-df-convert:hover {\n",
              "      background-color: #434B5C;\n",
              "      box-shadow: 0px 1px 3px 1px rgba(0, 0, 0, 0.15);\n",
              "      filter: drop-shadow(0px 1px 2px rgba(0, 0, 0, 0.3));\n",
              "      fill: #FFFFFF;\n",
              "    }\n",
              "  </style>\n",
              "\n",
              "    <script>\n",
              "      const buttonEl =\n",
              "        document.querySelector('#df-3c9d9bad-7870-4ae6-b400-c96d66bff27c button.colab-df-convert');\n",
              "      buttonEl.style.display =\n",
              "        google.colab.kernel.accessAllowed ? 'block' : 'none';\n",
              "\n",
              "      async function convertToInteractive(key) {\n",
              "        const element = document.querySelector('#df-3c9d9bad-7870-4ae6-b400-c96d66bff27c');\n",
              "        const dataTable =\n",
              "          await google.colab.kernel.invokeFunction('convertToInteractive',\n",
              "                                                    [key], {});\n",
              "        if (!dataTable) return;\n",
              "\n",
              "        const docLinkHtml = 'Like what you see? Visit the ' +\n",
              "          '<a target=\"_blank\" href=https://colab.research.google.com/notebooks/data_table.ipynb>data table notebook</a>'\n",
              "          + ' to learn more about interactive tables.';\n",
              "        element.innerHTML = '';\n",
              "        dataTable['output_type'] = 'display_data';\n",
              "        await google.colab.output.renderOutput(dataTable, element);\n",
              "        const docLink = document.createElement('div');\n",
              "        docLink.innerHTML = docLinkHtml;\n",
              "        element.appendChild(docLink);\n",
              "      }\n",
              "    </script>\n",
              "  </div>\n",
              "\n",
              "\n",
              "<div id=\"df-cce02589-44db-4153-899c-cdf89dffc25f\">\n",
              "  <button class=\"colab-df-quickchart\" onclick=\"quickchart('df-cce02589-44db-4153-899c-cdf89dffc25f')\"\n",
              "            title=\"Suggest charts\"\n",
              "            style=\"display:none;\">\n",
              "\n",
              "<svg xmlns=\"http://www.w3.org/2000/svg\" height=\"24px\"viewBox=\"0 0 24 24\"\n",
              "     width=\"24px\">\n",
              "    <g>\n",
              "        <path d=\"M19 3H5c-1.1 0-2 .9-2 2v14c0 1.1.9 2 2 2h14c1.1 0 2-.9 2-2V5c0-1.1-.9-2-2-2zM9 17H7v-7h2v7zm4 0h-2V7h2v10zm4 0h-2v-4h2v4z\"/>\n",
              "    </g>\n",
              "</svg>\n",
              "  </button>\n",
              "\n",
              "<style>\n",
              "  .colab-df-quickchart {\n",
              "      --bg-color: #E8F0FE;\n",
              "      --fill-color: #1967D2;\n",
              "      --hover-bg-color: #E2EBFA;\n",
              "      --hover-fill-color: #174EA6;\n",
              "      --disabled-fill-color: #AAA;\n",
              "      --disabled-bg-color: #DDD;\n",
              "  }\n",
              "\n",
              "  [theme=dark] .colab-df-quickchart {\n",
              "      --bg-color: #3B4455;\n",
              "      --fill-color: #D2E3FC;\n",
              "      --hover-bg-color: #434B5C;\n",
              "      --hover-fill-color: #FFFFFF;\n",
              "      --disabled-bg-color: #3B4455;\n",
              "      --disabled-fill-color: #666;\n",
              "  }\n",
              "\n",
              "  .colab-df-quickchart {\n",
              "    background-color: var(--bg-color);\n",
              "    border: none;\n",
              "    border-radius: 50%;\n",
              "    cursor: pointer;\n",
              "    display: none;\n",
              "    fill: var(--fill-color);\n",
              "    height: 32px;\n",
              "    padding: 0;\n",
              "    width: 32px;\n",
              "  }\n",
              "\n",
              "  .colab-df-quickchart:hover {\n",
              "    background-color: var(--hover-bg-color);\n",
              "    box-shadow: 0 1px 2px rgba(60, 64, 67, 0.3), 0 1px 3px 1px rgba(60, 64, 67, 0.15);\n",
              "    fill: var(--button-hover-fill-color);\n",
              "  }\n",
              "\n",
              "  .colab-df-quickchart-complete:disabled,\n",
              "  .colab-df-quickchart-complete:disabled:hover {\n",
              "    background-color: var(--disabled-bg-color);\n",
              "    fill: var(--disabled-fill-color);\n",
              "    box-shadow: none;\n",
              "  }\n",
              "\n",
              "  .colab-df-spinner {\n",
              "    border: 2px solid var(--fill-color);\n",
              "    border-color: transparent;\n",
              "    border-bottom-color: var(--fill-color);\n",
              "    animation:\n",
              "      spin 1s steps(1) infinite;\n",
              "  }\n",
              "\n",
              "  @keyframes spin {\n",
              "    0% {\n",
              "      border-color: transparent;\n",
              "      border-bottom-color: var(--fill-color);\n",
              "      border-left-color: var(--fill-color);\n",
              "    }\n",
              "    20% {\n",
              "      border-color: transparent;\n",
              "      border-left-color: var(--fill-color);\n",
              "      border-top-color: var(--fill-color);\n",
              "    }\n",
              "    30% {\n",
              "      border-color: transparent;\n",
              "      border-left-color: var(--fill-color);\n",
              "      border-top-color: var(--fill-color);\n",
              "      border-right-color: var(--fill-color);\n",
              "    }\n",
              "    40% {\n",
              "      border-color: transparent;\n",
              "      border-right-color: var(--fill-color);\n",
              "      border-top-color: var(--fill-color);\n",
              "    }\n",
              "    60% {\n",
              "      border-color: transparent;\n",
              "      border-right-color: var(--fill-color);\n",
              "    }\n",
              "    80% {\n",
              "      border-color: transparent;\n",
              "      border-right-color: var(--fill-color);\n",
              "      border-bottom-color: var(--fill-color);\n",
              "    }\n",
              "    90% {\n",
              "      border-color: transparent;\n",
              "      border-bottom-color: var(--fill-color);\n",
              "    }\n",
              "  }\n",
              "</style>\n",
              "\n",
              "  <script>\n",
              "    async function quickchart(key) {\n",
              "      const quickchartButtonEl =\n",
              "        document.querySelector('#' + key + ' button');\n",
              "      quickchartButtonEl.disabled = true;  // To prevent multiple clicks.\n",
              "      quickchartButtonEl.classList.add('colab-df-spinner');\n",
              "      try {\n",
              "        const charts = await google.colab.kernel.invokeFunction(\n",
              "            'suggestCharts', [key], {});\n",
              "      } catch (error) {\n",
              "        console.error('Error during call to suggestCharts:', error);\n",
              "      }\n",
              "      quickchartButtonEl.classList.remove('colab-df-spinner');\n",
              "      quickchartButtonEl.classList.add('colab-df-quickchart-complete');\n",
              "    }\n",
              "    (() => {\n",
              "      let quickchartButtonEl =\n",
              "        document.querySelector('#df-cce02589-44db-4153-899c-cdf89dffc25f button');\n",
              "      quickchartButtonEl.style.display =\n",
              "        google.colab.kernel.accessAllowed ? 'block' : 'none';\n",
              "    })();\n",
              "  </script>\n",
              "</div>\n",
              "    </div>\n",
              "  </div>\n"
            ]
          },
          "metadata": {},
          "execution_count": 8
        }
      ]
    },
    {
      "cell_type": "code",
      "source": [
        "#counting number rows and columms in data set\n",
        "df.shape"
      ],
      "metadata": {
        "colab": {
          "base_uri": "https://localhost:8080/"
        },
        "id": "7OfxYjUSQ-IW",
        "outputId": "ef391ae9-1d2f-48d0-890e-bf7f0b6fff46"
      },
      "execution_count": 9,
      "outputs": [
        {
          "output_type": "execute_result",
          "data": {
            "text/plain": [
              "(68511, 11)"
            ]
          },
          "metadata": {},
          "execution_count": 9
        }
      ]
    },
    {
      "cell_type": "code",
      "source": [
        "#summary of the dataset\n",
        "df.describe()"
      ],
      "metadata": {
        "colab": {
          "base_uri": "https://localhost:8080/",
          "height": 300
        },
        "id": "aYvHmLhIRExm",
        "outputId": "3e414766-f6a7-43fb-a54b-d74b17fc86e2"
      },
      "execution_count": 10,
      "outputs": [
        {
          "output_type": "execute_result",
          "data": {
            "text/plain": [
              "       NORAD_CAT_ID_1         DSE_1  NORAD_CAT_ID_2         DSE_2  \\\n",
              "count    68511.000000  68511.000000    68511.000000  68511.000000   \n",
              "mean     48512.041103      3.966342    43699.455489      4.383503   \n",
              "std       7006.209153      2.058711    23356.276021      2.696849   \n",
              "min        900.000000      0.144000       11.000000      0.089000   \n",
              "25%      43886.000000      2.202000    32166.000000      2.399000   \n",
              "50%      48942.000000      3.946000    46570.000000      4.232000   \n",
              "75%      53877.000000      5.721500    56204.000000      6.040000   \n",
              "max      58223.000000     32.001000   270287.000000     35.868000   \n",
              "\n",
              "          TCA_RANGE  TCA_RELATIVE_SPEED      MAX_PROB      DILUTION  \n",
              "count  68511.000000        68511.000000  6.851100e+04  68511.000000  \n",
              "mean       3.326290           11.329061  6.847963e-06      1.394489  \n",
              "std        1.183915            3.810095  9.852045e-05      0.711897  \n",
              "min        0.017000            0.000000  1.803000e-08      0.008000  \n",
              "25%        2.493000            8.852000  2.458000e-07      0.880000  \n",
              "50%        3.529000           12.864000  1.068000e-06      1.262000  \n",
              "75%        4.326000           14.402000  2.485000e-06      1.848000  \n",
              "max        5.000000           17.055000  1.208000e-02      3.535000  "
            ],
            "text/html": [
              "\n",
              "  <div id=\"df-ff3552ff-6ffe-4d65-81e0-463b886dcc6b\" class=\"colab-df-container\">\n",
              "    <div>\n",
              "<style scoped>\n",
              "    .dataframe tbody tr th:only-of-type {\n",
              "        vertical-align: middle;\n",
              "    }\n",
              "\n",
              "    .dataframe tbody tr th {\n",
              "        vertical-align: top;\n",
              "    }\n",
              "\n",
              "    .dataframe thead th {\n",
              "        text-align: right;\n",
              "    }\n",
              "</style>\n",
              "<table border=\"1\" class=\"dataframe\">\n",
              "  <thead>\n",
              "    <tr style=\"text-align: right;\">\n",
              "      <th></th>\n",
              "      <th>NORAD_CAT_ID_1</th>\n",
              "      <th>DSE_1</th>\n",
              "      <th>NORAD_CAT_ID_2</th>\n",
              "      <th>DSE_2</th>\n",
              "      <th>TCA_RANGE</th>\n",
              "      <th>TCA_RELATIVE_SPEED</th>\n",
              "      <th>MAX_PROB</th>\n",
              "      <th>DILUTION</th>\n",
              "    </tr>\n",
              "  </thead>\n",
              "  <tbody>\n",
              "    <tr>\n",
              "      <th>count</th>\n",
              "      <td>68511.000000</td>\n",
              "      <td>68511.000000</td>\n",
              "      <td>68511.000000</td>\n",
              "      <td>68511.000000</td>\n",
              "      <td>68511.000000</td>\n",
              "      <td>68511.000000</td>\n",
              "      <td>6.851100e+04</td>\n",
              "      <td>68511.000000</td>\n",
              "    </tr>\n",
              "    <tr>\n",
              "      <th>mean</th>\n",
              "      <td>48512.041103</td>\n",
              "      <td>3.966342</td>\n",
              "      <td>43699.455489</td>\n",
              "      <td>4.383503</td>\n",
              "      <td>3.326290</td>\n",
              "      <td>11.329061</td>\n",
              "      <td>6.847963e-06</td>\n",
              "      <td>1.394489</td>\n",
              "    </tr>\n",
              "    <tr>\n",
              "      <th>std</th>\n",
              "      <td>7006.209153</td>\n",
              "      <td>2.058711</td>\n",
              "      <td>23356.276021</td>\n",
              "      <td>2.696849</td>\n",
              "      <td>1.183915</td>\n",
              "      <td>3.810095</td>\n",
              "      <td>9.852045e-05</td>\n",
              "      <td>0.711897</td>\n",
              "    </tr>\n",
              "    <tr>\n",
              "      <th>min</th>\n",
              "      <td>900.000000</td>\n",
              "      <td>0.144000</td>\n",
              "      <td>11.000000</td>\n",
              "      <td>0.089000</td>\n",
              "      <td>0.017000</td>\n",
              "      <td>0.000000</td>\n",
              "      <td>1.803000e-08</td>\n",
              "      <td>0.008000</td>\n",
              "    </tr>\n",
              "    <tr>\n",
              "      <th>25%</th>\n",
              "      <td>43886.000000</td>\n",
              "      <td>2.202000</td>\n",
              "      <td>32166.000000</td>\n",
              "      <td>2.399000</td>\n",
              "      <td>2.493000</td>\n",
              "      <td>8.852000</td>\n",
              "      <td>2.458000e-07</td>\n",
              "      <td>0.880000</td>\n",
              "    </tr>\n",
              "    <tr>\n",
              "      <th>50%</th>\n",
              "      <td>48942.000000</td>\n",
              "      <td>3.946000</td>\n",
              "      <td>46570.000000</td>\n",
              "      <td>4.232000</td>\n",
              "      <td>3.529000</td>\n",
              "      <td>12.864000</td>\n",
              "      <td>1.068000e-06</td>\n",
              "      <td>1.262000</td>\n",
              "    </tr>\n",
              "    <tr>\n",
              "      <th>75%</th>\n",
              "      <td>53877.000000</td>\n",
              "      <td>5.721500</td>\n",
              "      <td>56204.000000</td>\n",
              "      <td>6.040000</td>\n",
              "      <td>4.326000</td>\n",
              "      <td>14.402000</td>\n",
              "      <td>2.485000e-06</td>\n",
              "      <td>1.848000</td>\n",
              "    </tr>\n",
              "    <tr>\n",
              "      <th>max</th>\n",
              "      <td>58223.000000</td>\n",
              "      <td>32.001000</td>\n",
              "      <td>270287.000000</td>\n",
              "      <td>35.868000</td>\n",
              "      <td>5.000000</td>\n",
              "      <td>17.055000</td>\n",
              "      <td>1.208000e-02</td>\n",
              "      <td>3.535000</td>\n",
              "    </tr>\n",
              "  </tbody>\n",
              "</table>\n",
              "</div>\n",
              "    <div class=\"colab-df-buttons\">\n",
              "\n",
              "  <div class=\"colab-df-container\">\n",
              "    <button class=\"colab-df-convert\" onclick=\"convertToInteractive('df-ff3552ff-6ffe-4d65-81e0-463b886dcc6b')\"\n",
              "            title=\"Convert this dataframe to an interactive table.\"\n",
              "            style=\"display:none;\">\n",
              "\n",
              "  <svg xmlns=\"http://www.w3.org/2000/svg\" height=\"24px\" viewBox=\"0 -960 960 960\">\n",
              "    <path d=\"M120-120v-720h720v720H120Zm60-500h600v-160H180v160Zm220 220h160v-160H400v160Zm0 220h160v-160H400v160ZM180-400h160v-160H180v160Zm440 0h160v-160H620v160ZM180-180h160v-160H180v160Zm440 0h160v-160H620v160Z\"/>\n",
              "  </svg>\n",
              "    </button>\n",
              "\n",
              "  <style>\n",
              "    .colab-df-container {\n",
              "      display:flex;\n",
              "      gap: 12px;\n",
              "    }\n",
              "\n",
              "    .colab-df-convert {\n",
              "      background-color: #E8F0FE;\n",
              "      border: none;\n",
              "      border-radius: 50%;\n",
              "      cursor: pointer;\n",
              "      display: none;\n",
              "      fill: #1967D2;\n",
              "      height: 32px;\n",
              "      padding: 0 0 0 0;\n",
              "      width: 32px;\n",
              "    }\n",
              "\n",
              "    .colab-df-convert:hover {\n",
              "      background-color: #E2EBFA;\n",
              "      box-shadow: 0px 1px 2px rgba(60, 64, 67, 0.3), 0px 1px 3px 1px rgba(60, 64, 67, 0.15);\n",
              "      fill: #174EA6;\n",
              "    }\n",
              "\n",
              "    .colab-df-buttons div {\n",
              "      margin-bottom: 4px;\n",
              "    }\n",
              "\n",
              "    [theme=dark] .colab-df-convert {\n",
              "      background-color: #3B4455;\n",
              "      fill: #D2E3FC;\n",
              "    }\n",
              "\n",
              "    [theme=dark] .colab-df-convert:hover {\n",
              "      background-color: #434B5C;\n",
              "      box-shadow: 0px 1px 3px 1px rgba(0, 0, 0, 0.15);\n",
              "      filter: drop-shadow(0px 1px 2px rgba(0, 0, 0, 0.3));\n",
              "      fill: #FFFFFF;\n",
              "    }\n",
              "  </style>\n",
              "\n",
              "    <script>\n",
              "      const buttonEl =\n",
              "        document.querySelector('#df-ff3552ff-6ffe-4d65-81e0-463b886dcc6b button.colab-df-convert');\n",
              "      buttonEl.style.display =\n",
              "        google.colab.kernel.accessAllowed ? 'block' : 'none';\n",
              "\n",
              "      async function convertToInteractive(key) {\n",
              "        const element = document.querySelector('#df-ff3552ff-6ffe-4d65-81e0-463b886dcc6b');\n",
              "        const dataTable =\n",
              "          await google.colab.kernel.invokeFunction('convertToInteractive',\n",
              "                                                    [key], {});\n",
              "        if (!dataTable) return;\n",
              "\n",
              "        const docLinkHtml = 'Like what you see? Visit the ' +\n",
              "          '<a target=\"_blank\" href=https://colab.research.google.com/notebooks/data_table.ipynb>data table notebook</a>'\n",
              "          + ' to learn more about interactive tables.';\n",
              "        element.innerHTML = '';\n",
              "        dataTable['output_type'] = 'display_data';\n",
              "        await google.colab.output.renderOutput(dataTable, element);\n",
              "        const docLink = document.createElement('div');\n",
              "        docLink.innerHTML = docLinkHtml;\n",
              "        element.appendChild(docLink);\n",
              "      }\n",
              "    </script>\n",
              "  </div>\n",
              "\n",
              "\n",
              "<div id=\"df-da889af1-037e-4dd6-b45b-3de75881bc1e\">\n",
              "  <button class=\"colab-df-quickchart\" onclick=\"quickchart('df-da889af1-037e-4dd6-b45b-3de75881bc1e')\"\n",
              "            title=\"Suggest charts\"\n",
              "            style=\"display:none;\">\n",
              "\n",
              "<svg xmlns=\"http://www.w3.org/2000/svg\" height=\"24px\"viewBox=\"0 0 24 24\"\n",
              "     width=\"24px\">\n",
              "    <g>\n",
              "        <path d=\"M19 3H5c-1.1 0-2 .9-2 2v14c0 1.1.9 2 2 2h14c1.1 0 2-.9 2-2V5c0-1.1-.9-2-2-2zM9 17H7v-7h2v7zm4 0h-2V7h2v10zm4 0h-2v-4h2v4z\"/>\n",
              "    </g>\n",
              "</svg>\n",
              "  </button>\n",
              "\n",
              "<style>\n",
              "  .colab-df-quickchart {\n",
              "      --bg-color: #E8F0FE;\n",
              "      --fill-color: #1967D2;\n",
              "      --hover-bg-color: #E2EBFA;\n",
              "      --hover-fill-color: #174EA6;\n",
              "      --disabled-fill-color: #AAA;\n",
              "      --disabled-bg-color: #DDD;\n",
              "  }\n",
              "\n",
              "  [theme=dark] .colab-df-quickchart {\n",
              "      --bg-color: #3B4455;\n",
              "      --fill-color: #D2E3FC;\n",
              "      --hover-bg-color: #434B5C;\n",
              "      --hover-fill-color: #FFFFFF;\n",
              "      --disabled-bg-color: #3B4455;\n",
              "      --disabled-fill-color: #666;\n",
              "  }\n",
              "\n",
              "  .colab-df-quickchart {\n",
              "    background-color: var(--bg-color);\n",
              "    border: none;\n",
              "    border-radius: 50%;\n",
              "    cursor: pointer;\n",
              "    display: none;\n",
              "    fill: var(--fill-color);\n",
              "    height: 32px;\n",
              "    padding: 0;\n",
              "    width: 32px;\n",
              "  }\n",
              "\n",
              "  .colab-df-quickchart:hover {\n",
              "    background-color: var(--hover-bg-color);\n",
              "    box-shadow: 0 1px 2px rgba(60, 64, 67, 0.3), 0 1px 3px 1px rgba(60, 64, 67, 0.15);\n",
              "    fill: var(--button-hover-fill-color);\n",
              "  }\n",
              "\n",
              "  .colab-df-quickchart-complete:disabled,\n",
              "  .colab-df-quickchart-complete:disabled:hover {\n",
              "    background-color: var(--disabled-bg-color);\n",
              "    fill: var(--disabled-fill-color);\n",
              "    box-shadow: none;\n",
              "  }\n",
              "\n",
              "  .colab-df-spinner {\n",
              "    border: 2px solid var(--fill-color);\n",
              "    border-color: transparent;\n",
              "    border-bottom-color: var(--fill-color);\n",
              "    animation:\n",
              "      spin 1s steps(1) infinite;\n",
              "  }\n",
              "\n",
              "  @keyframes spin {\n",
              "    0% {\n",
              "      border-color: transparent;\n",
              "      border-bottom-color: var(--fill-color);\n",
              "      border-left-color: var(--fill-color);\n",
              "    }\n",
              "    20% {\n",
              "      border-color: transparent;\n",
              "      border-left-color: var(--fill-color);\n",
              "      border-top-color: var(--fill-color);\n",
              "    }\n",
              "    30% {\n",
              "      border-color: transparent;\n",
              "      border-left-color: var(--fill-color);\n",
              "      border-top-color: var(--fill-color);\n",
              "      border-right-color: var(--fill-color);\n",
              "    }\n",
              "    40% {\n",
              "      border-color: transparent;\n",
              "      border-right-color: var(--fill-color);\n",
              "      border-top-color: var(--fill-color);\n",
              "    }\n",
              "    60% {\n",
              "      border-color: transparent;\n",
              "      border-right-color: var(--fill-color);\n",
              "    }\n",
              "    80% {\n",
              "      border-color: transparent;\n",
              "      border-right-color: var(--fill-color);\n",
              "      border-bottom-color: var(--fill-color);\n",
              "    }\n",
              "    90% {\n",
              "      border-color: transparent;\n",
              "      border-bottom-color: var(--fill-color);\n",
              "    }\n",
              "  }\n",
              "</style>\n",
              "\n",
              "  <script>\n",
              "    async function quickchart(key) {\n",
              "      const quickchartButtonEl =\n",
              "        document.querySelector('#' + key + ' button');\n",
              "      quickchartButtonEl.disabled = true;  // To prevent multiple clicks.\n",
              "      quickchartButtonEl.classList.add('colab-df-spinner');\n",
              "      try {\n",
              "        const charts = await google.colab.kernel.invokeFunction(\n",
              "            'suggestCharts', [key], {});\n",
              "      } catch (error) {\n",
              "        console.error('Error during call to suggestCharts:', error);\n",
              "      }\n",
              "      quickchartButtonEl.classList.remove('colab-df-spinner');\n",
              "      quickchartButtonEl.classList.add('colab-df-quickchart-complete');\n",
              "    }\n",
              "    (() => {\n",
              "      let quickchartButtonEl =\n",
              "        document.querySelector('#df-da889af1-037e-4dd6-b45b-3de75881bc1e button');\n",
              "      quickchartButtonEl.style.display =\n",
              "        google.colab.kernel.accessAllowed ? 'block' : 'none';\n",
              "    })();\n",
              "  </script>\n",
              "</div>\n",
              "    </div>\n",
              "  </div>\n"
            ]
          },
          "metadata": {},
          "execution_count": 10
        }
      ]
    },
    {
      "cell_type": "code",
      "source": [
        "#Features of data set\n",
        "df.info()\n",
        ""
      ],
      "metadata": {
        "colab": {
          "base_uri": "https://localhost:8080/"
        },
        "id": "hmEhHGveRHe9",
        "outputId": "459dc2cb-61b2-4db0-9899-f56650808ec5"
      },
      "execution_count": 11,
      "outputs": [
        {
          "output_type": "stream",
          "name": "stdout",
          "text": [
            "<class 'pandas.core.frame.DataFrame'>\n",
            "RangeIndex: 68511 entries, 0 to 68510\n",
            "Data columns (total 11 columns):\n",
            " #   Column              Non-Null Count  Dtype  \n",
            "---  ------              --------------  -----  \n",
            " 0   NORAD_CAT_ID_1      68511 non-null  int64  \n",
            " 1   OBJECT_NAME_1       68511 non-null  object \n",
            " 2   DSE_1               68511 non-null  float64\n",
            " 3   NORAD_CAT_ID_2      68511 non-null  int64  \n",
            " 4   OBJECT_NAME_2       68511 non-null  object \n",
            " 5   DSE_2               68511 non-null  float64\n",
            " 6   TCA                 68511 non-null  object \n",
            " 7   TCA_RANGE           68511 non-null  float64\n",
            " 8   TCA_RELATIVE_SPEED  68511 non-null  float64\n",
            " 9   MAX_PROB            68511 non-null  float64\n",
            " 10  DILUTION            68511 non-null  float64\n",
            "dtypes: float64(6), int64(2), object(3)\n",
            "memory usage: 5.7+ MB\n"
          ]
        }
      ]
    },
    {
      "cell_type": "markdown",
      "source": [
        "#**Analytics**"
      ],
      "metadata": {
        "id": "QRP4gobkRQQI"
      }
    },
    {
      "cell_type": "code",
      "source": [
        "# 1.Total Number of Conjunctions\n",
        "total_conjunctions = len(df)\n",
        "total_conjunctions\n"
      ],
      "metadata": {
        "colab": {
          "base_uri": "https://localhost:8080/"
        },
        "id": "gxrNO7H0RLeX",
        "outputId": "2a50fb82-02f5-4d7e-b0e9-056e60c04494"
      },
      "execution_count": 12,
      "outputs": [
        {
          "output_type": "execute_result",
          "data": {
            "text/plain": [
              "68511"
            ]
          },
          "metadata": {},
          "execution_count": 12
        }
      ]
    },
    {
      "cell_type": "code",
      "source": [
        "# 2.Active Satellites Involved\n",
        "unique_satellites = df['NORAD_CAT_ID_1'].append(df['NORAD_CAT_ID_2']).unique()\n",
        "num_active_satellites = len(unique_satellites)\n",
        "\n"
      ],
      "metadata": {
        "colab": {
          "base_uri": "https://localhost:8080/"
        },
        "id": "X7u8JdGZV3hq",
        "outputId": "a5db5383-2436-486c-be0a-214bc74e8435"
      },
      "execution_count": 13,
      "outputs": [
        {
          "output_type": "stream",
          "name": "stderr",
          "text": [
            "<ipython-input-13-0c4bd0d125ab>:2: FutureWarning: The series.append method is deprecated and will be removed from pandas in a future version. Use pandas.concat instead.\n",
            "  unique_satellites = df['NORAD_CAT_ID_1'].append(df['NORAD_CAT_ID_2']).unique()\n"
          ]
        }
      ]
    },
    {
      "cell_type": "code",
      "source": [
        "num_active_satellites\n",
        "unique_satellites"
      ],
      "metadata": {
        "colab": {
          "base_uri": "https://localhost:8080/"
        },
        "id": "nGJkuJU22UbT",
        "outputId": "51ccfcdd-34d3-417b-c545-b1e60d699efa"
      },
      "execution_count": 14,
      "outputs": [
        {
          "output_type": "execute_result",
          "data": {
            "text/plain": [
              "array([ 46943,  57342,  57192, ..., 270096,  20609,  82227])"
            ]
          },
          "metadata": {},
          "execution_count": 14
        }
      ]
    },
    {
      "cell_type": "code",
      "source": [
        "# 3.Distribution of Conjunction Probabilities\n",
        "plt.figure(figsize=(8, 6))\n",
        "df['MAX_PROB'].hist(bins=20, edgecolor='black')\n",
        "plt.title('Distribution of Conjunction Probabilities')\n",
        "plt.xlabel('Maximum Probability')\n",
        "plt.ylabel('Number of Conjunctions')\n",
        "plt.show()\n"
      ],
      "metadata": {
        "colab": {
          "base_uri": "https://localhost:8080/",
          "height": 557
        },
        "id": "WgFapJadV8rv",
        "outputId": "e6bae74c-d626-49b1-d81e-41055349ce76"
      },
      "execution_count": 15,
      "outputs": [
        {
          "output_type": "display_data",
          "data": {
            "text/plain": [
              "<Figure size 800x600 with 1 Axes>"
            ],
            "image/png": "[encoded data removed]"
          },
          "metadata": {}
        }
      ]
    },
    {
      "cell_type": "code",
      "source": [
        "# 4.Dilution Threshold Analysis\n",
        "dilution_thresholds = df['DILUTION'].unique()\n",
        "dilution_thresholds\n"
      ],
      "metadata": {
        "colab": {
          "base_uri": "https://localhost:8080/"
        },
        "id": "wy2HMqDVWAdR",
        "outputId": "693e6fc6-5e5d-49ce-ed55-5f4c393035c6"
      },
      "execution_count": 16,
      "outputs": [
        {
          "output_type": "execute_result",
          "data": {
            "text/plain": [
              "array([0.01 , 0.011, 0.008, ..., 3.467, 3.498, 3.322])"
            ]
          },
          "metadata": {},
          "execution_count": 16
        }
      ]
    },
    {
      "cell_type": "code",
      "source": [
        "#Convert 'TCA' column to datetime format\n",
        "df['ConjunctionTime'] = pd.to_datetime(df['TCA'])\n",
        "\n",
        "# Now, 'ConjunctionTime' column contains the datetime information\n",
        "print(df[['TCA', 'ConjunctionTime']])"
      ],
      "metadata": {
        "colab": {
          "base_uri": "https://localhost:8080/"
        },
        "id": "9YfoH6TwW0W_",
        "outputId": "e9b0798b-ec86-449b-ded0-9f69e8896dd1"
      },
      "execution_count": 17,
      "outputs": [
        {
          "output_type": "stream",
          "name": "stdout",
          "text": [
            "                           TCA         ConjunctionTime\n",
            "0      2023-11-10 19:41:58.190 2023-11-10 19:41:58.190\n",
            "1      2023-11-16 14:43:00.723 2023-11-16 14:43:00.723\n",
            "2      2023-11-16 06:09:36.351 2023-11-16 06:09:36.351\n",
            "3      2023-11-14 11:26:42.273 2023-11-14 11:26:42.273\n",
            "4      2023-11-15 07:09:41.444 2023-11-15 07:09:41.444\n",
            "...                        ...                     ...\n",
            "68506  2023-11-12 13:50:28.831 2023-11-12 13:50:28.831\n",
            "68507  2023-11-16 16:57:41.997 2023-11-16 16:57:41.997\n",
            "68508  2023-11-16 13:34:07.166 2023-11-16 13:34:07.166\n",
            "68509  2023-11-15 13:30:12.682 2023-11-15 13:30:12.682\n",
            "68510  2023-11-13 11:12:35.678 2023-11-13 11:12:35.678\n",
            "\n",
            "[68511 rows x 2 columns]\n"
          ]
        }
      ]
    },
    {
      "cell_type": "code",
      "source": [
        "# 5.Time of Closest Approach Analysis\n",
        "# Sort DataFrame by 'TCA'\n",
        "df = df.sort_values(by='TCA')\n",
        "\n",
        "# Plot the number of conjunctions over time\n",
        "plt.figure(figsize=(12, 6))\n",
        "plt.plot(df['TCA'], range(len(df)), marker='o', linestyle='-', color='b')\n",
        "plt.title('Time of Closest Approach Analysis')\n",
        "plt.xlabel('Time of Closest Approach (UTC)')\n",
        "plt.ylabel('Number of Conjunctions')\n",
        "plt.show()"
      ],
      "metadata": {
        "colab": {
          "base_uri": "https://localhost:8080/",
          "height": 557
        },
        "id": "lJtb0vss4ZK5",
        "outputId": "05c45a73-fdfe-4e45-a9d2-8784b15a41dc"
      },
      "execution_count": 18,
      "outputs": [
        {
          "output_type": "display_data",
          "data": {
            "text/plain": [
              "<Figure size 1200x600 with 1 Axes>"
            ],
            "image/png": "[encoded data removed]"
          },
          "metadata": {}
        }
      ]
    },
    {
      "cell_type": "code",
      "source": [
        "# 6.Relative Speed Distribution\n",
        "plt.figure(figsize=(10, 6))\n",
        "df['TCA_RELATIVE_SPEED'].hist(bins=20, edgecolor='black')\n",
        "plt.title('Relative Speed Distribution')\n",
        "plt.xlabel('Relative Speed (km/sec)')\n",
        "plt.ylabel('Number of Conjunctions')\n",
        "plt.show()\n"
      ],
      "metadata": {
        "colab": {
          "base_uri": "https://localhost:8080/",
          "height": 557
        },
        "id": "ztIBCXEsXsub",
        "outputId": "a72e3e41-2581-492a-9295-6f4816b8a10a"
      },
      "execution_count": 20,
      "outputs": [
        {
          "output_type": "display_data",
          "data": {
            "text/plain": [
              "<Figure size 1000x600 with 1 Axes>"
            ],
            "image/png": "[encoded data removed]"
          },
          "metadata": {}
        }
      ]
    },
    {
      "cell_type": "code",
      "source": [
        "# 7.Minimum Range Distribution\n",
        "plt.figure(figsize=(10, 6))\n",
        "df['TCA_RANGE'].hist(bins=20, edgecolor='black')\n",
        "plt.title('Minimum Range Distribution')\n",
        "plt.xlabel('Minimum Range (km)')\n",
        "plt.ylabel('Number of Conjunctions')\n",
        "plt.show()"
      ],
      "metadata": {
        "colab": {
          "base_uri": "https://localhost:8080/",
          "height": 557
        },
        "id": "aoflR-24Xw0n",
        "outputId": "8763a761-b083-4135-95c0-8b12fe6c0e3b"
      },
      "execution_count": 21,
      "outputs": [
        {
          "output_type": "display_data",
          "data": {
            "text/plain": [
              "<Figure size 1000x600 with 1 Axes>"
            ],
            "image/png": "[encoded data removed]"
          },
          "metadata": {}
        }
      ]
    },
    {
      "cell_type": "code",
      "source": [
        "# 8.SGP4 Propagation Errors# Check if 'SGP4 Propagation Errors' column exists before using it\n",
        "if 'SGP4 Propagation Errors' in df.columns:\n",
        "    # 8. SGP4 Propagation Errors\n",
        "    sgp4_errors = df['SGP4 Propagation Errors'].dropna()\n",
        "    print(f\"8. SGP4 Propagation Errors: {sgp4_errors}\")\n",
        "else:\n",
        "    print(\"Column 'SGP4 Propagation Errors' not found in the dataset.\")\n",
        "\n",
        "# Plot the number of conjunctions over time\n",
        "plt.figure(figsize=(12, 6))\n",
        "plt.plot(df['TCA'], range(len(df)), marker='o', linestyle='-', color='b')\n",
        "plt.title('Time of Closest Approach Analysis')\n",
        "plt.xlabel('Time of Closest Approach (UTC)')\n",
        "plt.ylabel('Number of Conjunctions')\n",
        "plt.show()"
      ],
      "metadata": {
        "colab": {
          "base_uri": "https://localhost:8080/",
          "height": 574
        },
        "id": "APmNdsFbXz_y",
        "outputId": "eb22de6a-b6f4-4256-e3c2-7c654d80b553"
      },
      "execution_count": 22,
      "outputs": [
        {
          "output_type": "stream",
          "name": "stdout",
          "text": [
            "Column 'SGP4 Propagation Errors' not found in the dataset.\n"
          ]
        },
        {
          "output_type": "display_data",
          "data": {
            "text/plain": [
              "<Figure size 1200x600 with 1 Axes>"
            ],
            "image/png": "[encoded data removed]"
          },
          "metadata": {}
        }
      ]
    },
    {
      "cell_type": "code",
      "source": [
        "# 9.Satellite Operational Status\n",
        "status_columns = ['OBJECT_NAME_1', 'OBJECT_NAME_2']\n",
        "\n",
        "# Define a function to extract the operational status\n",
        "def extract_status(x):\n",
        "    if pd.notna(x):\n",
        "        x_str = str(x)  # Convert to string\n",
        "        match = re.search(r'\\[([^\\]]+)\\]', x_str)\n",
        "        if match:\n",
        "            return match.group(1)\n",
        "    return 'Unknown'  # If no match or NaN, consider the status as 'Unknown'\n",
        "\n",
        "# Apply the function to each column\n",
        "status_values = df[status_columns].applymap(extract_status)\n",
        "\n",
        "# Stack the DataFrame to create a Series\n",
        "status_series = status_values.stack()\n",
        "\n",
        "# Count the occurrences of each status\n",
        "satellite_status_counts = status_series.value_counts()\n",
        "\n",
        "print(f\"9. Satellite Operational Status: \\n{satellite_status_counts}\")\n",
        "\n",
        "# Plot the number of conjunctions over time\n",
        "plt.figure(figsize=(12, 6))\n",
        "plt.plot(df['TCA'], range(len(df)), marker='o', linestyle='-', color='b')\n",
        "plt.title('Time of Closest Approach Analysis')\n",
        "plt.xlabel('Time of Closest Approach (UTC)')\n",
        "plt.ylabel('Number of Conjunctions')\n",
        "plt.show()\n"
      ],
      "metadata": {
        "colab": {
          "base_uri": "https://localhost:8080/",
          "height": 390
        },
        "id": "p-HruPcLZylo",
        "outputId": "38c0767a-2cc4-4cea-aed6-87d588a4980a"
      },
      "execution_count": 24,
      "outputs": [
        {
          "output_type": "error",
          "ename": "NameError",
          "evalue": "ignored",
          "traceback": [
            "\u001b[0;31m---------------------------------------------------------------------------\u001b[0m",
            "\u001b[0;31mNameError\u001b[0m                                 Traceback (most recent call last)",
            "\u001b[0;32m<ipython-input-24-6ef7880c722b>\u001b[0m in \u001b[0;36m<cell line: 14>\u001b[0;34m()\u001b[0m\n\u001b[1;32m     12\u001b[0m \u001b[0;34m\u001b[0m\u001b[0m\n\u001b[1;32m     13\u001b[0m \u001b[0;31m# Apply the function to each column\u001b[0m\u001b[0;34m\u001b[0m\u001b[0;34m\u001b[0m\u001b[0m\n\u001b[0;32m---> 14\u001b[0;31m \u001b[0mstatus_values\u001b[0m \u001b[0;34m=\u001b[0m \u001b[0mdf\u001b[0m\u001b[0;34m[\u001b[0m\u001b[0mstatus_columns\u001b[0m\u001b[0;34m]\u001b[0m\u001b[0;34m.\u001b[0m\u001b[0mapplymap\u001b[0m\u001b[0;34m(\u001b[0m\u001b[0mextract_status\u001b[0m\u001b[0;34m)\u001b[0m\u001b[0;34m\u001b[0m\u001b[0;34m\u001b[0m\u001b[0m\n\u001b[0m\u001b[1;32m     15\u001b[0m \u001b[0;34m\u001b[0m\u001b[0m\n\u001b[1;32m     16\u001b[0m \u001b[0;31m# Stack the DataFrame to create a Series\u001b[0m\u001b[0;34m\u001b[0m\u001b[0;34m\u001b[0m\u001b[0m\n",
            "\u001b[0;32m/usr/local/lib/python3.10/dist-packages/pandas/core/frame.py\u001b[0m in \u001b[0;36mapplymap\u001b[0;34m(self, func, na_action, **kwargs)\u001b[0m\n\u001b[1;32m   9651\u001b[0m             \u001b[0;32mreturn\u001b[0m \u001b[0mlib\u001b[0m\u001b[0;34m.\u001b[0m\u001b[0mmap_infer\u001b[0m\u001b[0;34m(\u001b[0m\u001b[0mx\u001b[0m\u001b[0;34m.\u001b[0m\u001b[0mastype\u001b[0m\u001b[0;34m(\u001b[0m\u001b[0mobject\u001b[0m\u001b[0;34m)\u001b[0m\u001b[0;34m.\u001b[0m\u001b[0m_values\u001b[0m\u001b[0;34m,\u001b[0m \u001b[0mfunc\u001b[0m\u001b[0;34m,\u001b[0m \u001b[0mignore_na\u001b[0m\u001b[0;34m=\u001b[0m\u001b[0mignore_na\u001b[0m\u001b[0;34m)\u001b[0m\u001b[0;34m\u001b[0m\u001b[0;34m\u001b[0m\u001b[0m\n\u001b[1;32m   9652\u001b[0m \u001b[0;34m\u001b[0m\u001b[0m\n\u001b[0;32m-> 9653\u001b[0;31m         \u001b[0;32mreturn\u001b[0m \u001b[0mself\u001b[0m\u001b[0;34m.\u001b[0m\u001b[0mapply\u001b[0m\u001b[0;34m(\u001b[0m\u001b[0minfer\u001b[0m\u001b[0;34m)\u001b[0m\u001b[0;34m.\u001b[0m\u001b[0m__finalize__\u001b[0m\u001b[0;34m(\u001b[0m\u001b[0mself\u001b[0m\u001b[0;34m,\u001b[0m \u001b[0;34m\"applymap\"\u001b[0m\u001b[0;34m)\u001b[0m\u001b[0;34m\u001b[0m\u001b[0;34m\u001b[0m\u001b[0m\n\u001b[0m\u001b[1;32m   9654\u001b[0m \u001b[0;34m\u001b[0m\u001b[0m\n\u001b[1;32m   9655\u001b[0m     \u001b[0;31m# ----------------------------------------------------------------------\u001b[0m\u001b[0;34m\u001b[0m\u001b[0;34m\u001b[0m\u001b[0m\n",
            "\u001b[0;32m/usr/local/lib/python3.10/dist-packages/pandas/core/frame.py\u001b[0m in \u001b[0;36mapply\u001b[0;34m(self, func, axis, raw, result_type, args, **kwargs)\u001b[0m\n\u001b[1;32m   9566\u001b[0m             \u001b[0mkwargs\u001b[0m\u001b[0;34m=\u001b[0m\u001b[0mkwargs\u001b[0m\u001b[0;34m,\u001b[0m\u001b[0;34m\u001b[0m\u001b[0;34m\u001b[0m\u001b[0m\n\u001b[1;32m   9567\u001b[0m         )\n\u001b[0;32m-> 9568\u001b[0;31m         \u001b[0;32mreturn\u001b[0m \u001b[0mop\u001b[0m\u001b[0;34m.\u001b[0m\u001b[0mapply\u001b[0m\u001b[0;34m(\u001b[0m\u001b[0;34m)\u001b[0m\u001b[0;34m.\u001b[0m\u001b[0m__finalize__\u001b[0m\u001b[0;34m(\u001b[0m\u001b[0mself\u001b[0m\u001b[0;34m,\u001b[0m \u001b[0mmethod\u001b[0m\u001b[0;34m=\u001b[0m\u001b[0;34m\"apply\"\u001b[0m\u001b[0;34m)\u001b[0m\u001b[0;34m\u001b[0m\u001b[0;34m\u001b[0m\u001b[0m\n\u001b[0m\u001b[1;32m   9569\u001b[0m \u001b[0;34m\u001b[0m\u001b[0m\n\u001b[1;32m   9570\u001b[0m     def applymap(\n",
            "\u001b[0;32m/usr/local/lib/python3.10/dist-packages/pandas/core/apply.py\u001b[0m in \u001b[0;36mapply\u001b[0;34m(self)\u001b[0m\n\u001b[1;32m    762\u001b[0m             \u001b[0;32mreturn\u001b[0m \u001b[0mself\u001b[0m\u001b[0;34m.\u001b[0m\u001b[0mapply_raw\u001b[0m\u001b[0;34m(\u001b[0m\u001b[0;34m)\u001b[0m\u001b[0;34m\u001b[0m\u001b[0;34m\u001b[0m\u001b[0m\n\u001b[1;32m    763\u001b[0m \u001b[0;34m\u001b[0m\u001b[0m\n\u001b[0;32m--> 764\u001b[0;31m         \u001b[0;32mreturn\u001b[0m \u001b[0mself\u001b[0m\u001b[0;34m.\u001b[0m\u001b[0mapply_standard\u001b[0m\u001b[0;34m(\u001b[0m\u001b[0;34m)\u001b[0m\u001b[0;34m\u001b[0m\u001b[0;34m\u001b[0m\u001b[0m\n\u001b[0m\u001b[1;32m    765\u001b[0m \u001b[0;34m\u001b[0m\u001b[0m\n\u001b[1;32m    766\u001b[0m     \u001b[0;32mdef\u001b[0m \u001b[0magg\u001b[0m\u001b[0;34m(\u001b[0m\u001b[0mself\u001b[0m\u001b[0;34m)\u001b[0m\u001b[0;34m:\u001b[0m\u001b[0;34m\u001b[0m\u001b[0;34m\u001b[0m\u001b[0m\n",
            "\u001b[0;32m/usr/local/lib/python3.10/dist-packages/pandas/core/apply.py\u001b[0m in \u001b[0;36mapply_standard\u001b[0;34m(self)\u001b[0m\n\u001b[1;32m    889\u001b[0m \u001b[0;34m\u001b[0m\u001b[0m\n\u001b[1;32m    890\u001b[0m     \u001b[0;32mdef\u001b[0m \u001b[0mapply_standard\u001b[0m\u001b[0;34m(\u001b[0m\u001b[0mself\u001b[0m\u001b[0;34m)\u001b[0m\u001b[0;34m:\u001b[0m\u001b[0;34m\u001b[0m\u001b[0;34m\u001b[0m\u001b[0m\n\u001b[0;32m--> 891\u001b[0;31m         \u001b[0mresults\u001b[0m\u001b[0;34m,\u001b[0m \u001b[0mres_index\u001b[0m \u001b[0;34m=\u001b[0m \u001b[0mself\u001b[0m\u001b[0;34m.\u001b[0m\u001b[0mapply_series_generator\u001b[0m\u001b[0;34m(\u001b[0m\u001b[0;34m)\u001b[0m\u001b[0;34m\u001b[0m\u001b[0;34m\u001b[0m\u001b[0m\n\u001b[0m\u001b[1;32m    892\u001b[0m \u001b[0;34m\u001b[0m\u001b[0m\n\u001b[1;32m    893\u001b[0m         \u001b[0;31m# wrap results\u001b[0m\u001b[0;34m\u001b[0m\u001b[0;34m\u001b[0m\u001b[0m\n",
            "\u001b[0;32m/usr/local/lib/python3.10/dist-packages/pandas/core/apply.py\u001b[0m in \u001b[0;36mapply_series_generator\u001b[0;34m(self)\u001b[0m\n\u001b[1;32m    905\u001b[0m             \u001b[0;32mfor\u001b[0m \u001b[0mi\u001b[0m\u001b[0;34m,\u001b[0m \u001b[0mv\u001b[0m \u001b[0;32min\u001b[0m \u001b[0menumerate\u001b[0m\u001b[0;34m(\u001b[0m\u001b[0mseries_gen\u001b[0m\u001b[0;34m)\u001b[0m\u001b[0;34m:\u001b[0m\u001b[0;34m\u001b[0m\u001b[0;34m\u001b[0m\u001b[0m\n\u001b[1;32m    906\u001b[0m                 \u001b[0;31m# ignore SettingWithCopy here in case the user mutates\u001b[0m\u001b[0;34m\u001b[0m\u001b[0;34m\u001b[0m\u001b[0m\n\u001b[0;32m--> 907\u001b[0;31m                 \u001b[0mresults\u001b[0m\u001b[0;34m[\u001b[0m\u001b[0mi\u001b[0m\u001b[0;34m]\u001b[0m \u001b[0;34m=\u001b[0m \u001b[0mself\u001b[0m\u001b[0;34m.\u001b[0m\u001b[0mf\u001b[0m\u001b[0;34m(\u001b[0m\u001b[0mv\u001b[0m\u001b[0;34m)\u001b[0m\u001b[0;34m\u001b[0m\u001b[0;34m\u001b[0m\u001b[0m\n\u001b[0m\u001b[1;32m    908\u001b[0m                 \u001b[0;32mif\u001b[0m \u001b[0misinstance\u001b[0m\u001b[0;34m(\u001b[0m\u001b[0mresults\u001b[0m\u001b[0;34m[\u001b[0m\u001b[0mi\u001b[0m\u001b[0;34m]\u001b[0m\u001b[0;34m,\u001b[0m \u001b[0mABCSeries\u001b[0m\u001b[0;34m)\u001b[0m\u001b[0;34m:\u001b[0m\u001b[0;34m\u001b[0m\u001b[0;34m\u001b[0m\u001b[0m\n\u001b[1;32m    909\u001b[0m                     \u001b[0;31m# If we have a view on v, we need to make a copy because\u001b[0m\u001b[0;34m\u001b[0m\u001b[0;34m\u001b[0m\u001b[0m\n",
            "\u001b[0;32m/usr/local/lib/python3.10/dist-packages/pandas/core/frame.py\u001b[0m in \u001b[0;36minfer\u001b[0;34m(x)\u001b[0m\n\u001b[1;32m   9649\u001b[0m             \u001b[0;32mif\u001b[0m \u001b[0mx\u001b[0m\u001b[0;34m.\u001b[0m\u001b[0mempty\u001b[0m\u001b[0;34m:\u001b[0m\u001b[0;34m\u001b[0m\u001b[0;34m\u001b[0m\u001b[0m\n\u001b[1;32m   9650\u001b[0m                 \u001b[0;32mreturn\u001b[0m \u001b[0mlib\u001b[0m\u001b[0;34m.\u001b[0m\u001b[0mmap_infer\u001b[0m\u001b[0;34m(\u001b[0m\u001b[0mx\u001b[0m\u001b[0;34m,\u001b[0m \u001b[0mfunc\u001b[0m\u001b[0;34m,\u001b[0m \u001b[0mignore_na\u001b[0m\u001b[0;34m=\u001b[0m\u001b[0mignore_na\u001b[0m\u001b[0;34m)\u001b[0m\u001b[0;34m\u001b[0m\u001b[0;34m\u001b[0m\u001b[0m\n\u001b[0;32m-> 9651\u001b[0;31m             \u001b[0;32mreturn\u001b[0m \u001b[0mlib\u001b[0m\u001b[0;34m.\u001b[0m\u001b[0mmap_infer\u001b[0m\u001b[0;34m(\u001b[0m\u001b[0mx\u001b[0m\u001b[0;34m.\u001b[0m\u001b[0mastype\u001b[0m\u001b[0;34m(\u001b[0m\u001b[0mobject\u001b[0m\u001b[0;34m)\u001b[0m\u001b[0;34m.\u001b[0m\u001b[0m_values\u001b[0m\u001b[0;34m,\u001b[0m \u001b[0mfunc\u001b[0m\u001b[0;34m,\u001b[0m \u001b[0mignore_na\u001b[0m\u001b[0;34m=\u001b[0m\u001b[0mignore_na\u001b[0m\u001b[0;34m)\u001b[0m\u001b[0;34m\u001b[0m\u001b[0;34m\u001b[0m\u001b[0m\n\u001b[0m\u001b[1;32m   9652\u001b[0m \u001b[0;34m\u001b[0m\u001b[0m\n\u001b[1;32m   9653\u001b[0m         \u001b[0;32mreturn\u001b[0m \u001b[0mself\u001b[0m\u001b[0;34m.\u001b[0m\u001b[0mapply\u001b[0m\u001b[0;34m(\u001b[0m\u001b[0minfer\u001b[0m\u001b[0;34m)\u001b[0m\u001b[0;34m.\u001b[0m\u001b[0m__finalize__\u001b[0m\u001b[0;34m(\u001b[0m\u001b[0mself\u001b[0m\u001b[0;34m,\u001b[0m \u001b[0;34m\"applymap\"\u001b[0m\u001b[0;34m)\u001b[0m\u001b[0;34m\u001b[0m\u001b[0;34m\u001b[0m\u001b[0m\n",
            "\u001b[0;32m/usr/local/lib/python3.10/dist-packages/pandas/_libs/lib.pyx\u001b[0m in \u001b[0;36mpandas._libs.lib.map_infer\u001b[0;34m()\u001b[0m\n",
            "\u001b[0;32m<ipython-input-24-6ef7880c722b>\u001b[0m in \u001b[0;36mextract_status\u001b[0;34m(x)\u001b[0m\n\u001b[1;32m      6\u001b[0m     \u001b[0;32mif\u001b[0m \u001b[0mpd\u001b[0m\u001b[0;34m.\u001b[0m\u001b[0mnotna\u001b[0m\u001b[0;34m(\u001b[0m\u001b[0mx\u001b[0m\u001b[0;34m)\u001b[0m\u001b[0;34m:\u001b[0m\u001b[0;34m\u001b[0m\u001b[0;34m\u001b[0m\u001b[0m\n\u001b[1;32m      7\u001b[0m         \u001b[0mx_str\u001b[0m \u001b[0;34m=\u001b[0m \u001b[0mstr\u001b[0m\u001b[0;34m(\u001b[0m\u001b[0mx\u001b[0m\u001b[0;34m)\u001b[0m  \u001b[0;31m# Convert to string\u001b[0m\u001b[0;34m\u001b[0m\u001b[0;34m\u001b[0m\u001b[0m\n\u001b[0;32m----> 8\u001b[0;31m         \u001b[0mmatch\u001b[0m \u001b[0;34m=\u001b[0m \u001b[0mre\u001b[0m\u001b[0;34m.\u001b[0m\u001b[0msearch\u001b[0m\u001b[0;34m(\u001b[0m\u001b[0;34mr'\\[([^\\]]+)\\]'\u001b[0m\u001b[0;34m,\u001b[0m \u001b[0mx_str\u001b[0m\u001b[0;34m)\u001b[0m\u001b[0;34m\u001b[0m\u001b[0;34m\u001b[0m\u001b[0m\n\u001b[0m\u001b[1;32m      9\u001b[0m         \u001b[0;32mif\u001b[0m \u001b[0mmatch\u001b[0m\u001b[0;34m:\u001b[0m\u001b[0;34m\u001b[0m\u001b[0;34m\u001b[0m\u001b[0m\n\u001b[1;32m     10\u001b[0m             \u001b[0;32mreturn\u001b[0m \u001b[0mmatch\u001b[0m\u001b[0;34m.\u001b[0m\u001b[0mgroup\u001b[0m\u001b[0;34m(\u001b[0m\u001b[0;36m1\u001b[0m\u001b[0;34m)\u001b[0m\u001b[0;34m\u001b[0m\u001b[0;34m\u001b[0m\u001b[0m\n",
            "\u001b[0;31mNameError\u001b[0m: name 're' is not defined"
          ]
        }
      ]
    },
    {
      "cell_type": "code",
      "source": [
        "# 9. Satellite Operational Status\n",
        "status_columns = ['OBJECT_NAME_1', 'OBJECT_NAME_2']\n",
        "\n",
        "# Define a function to extract the operational status\n",
        "def extract_status(x):\n",
        "    if pd.notna(x):\n",
        "        match = re.search(r'\\[([^\\]]+)\\]', x)\n",
        "        if match:\n",
        "            return match.group(1)\n",
        "    return 'Unknown'  # If no match or NaN, consider the status as 'Unknown'\n",
        "\n",
        "# Apply the function to each column\n",
        "status_values = df[status_columns].applymap(extract_status)\n",
        "\n",
        "# Stack the DataFrame to create a Series\n",
        "status_series = status_values.stack()\n",
        "\n",
        "# Count the occurrences of each status\n",
        "satellite_status_counts = status_series.value_counts()\n",
        "\n",
        "print(f\"9. Satellite Operational Status: \\n{satellite_status_counts}\")\n",
        "\n",
        "# Plot the number of conjunctions over time\n",
        "plt.figure(figsize=(12, 6))\n",
        "plt.plot(df['TCA'], range(len(df)), marker='o', linestyle='-', color='b')\n",
        "plt.title('Time of Closest Approach Analysis')\n",
        "plt.xlabel('Time of Closest Approach (UTC)')\n",
        "plt.ylabel('Number of Conjunctions')\n",
        "plt.show()\n"
      ],
      "metadata": {
        "colab": {
          "base_uri": "https://localhost:8080/",
          "height": 390
        },
        "id": "IXboGePlMRrX",
        "outputId": "d4757bca-ce1c-4cc7-df94-cb1817632b1e"
      },
      "execution_count": 27,
      "outputs": [
        {
          "output_type": "error",
          "ename": "NameError",
          "evalue": "ignored",
          "traceback": [
            "\u001b[0;31m---------------------------------------------------------------------------\u001b[0m",
            "\u001b[0;31mNameError\u001b[0m                                 Traceback (most recent call last)",
            "\u001b[0;32m<ipython-input-27-5fd7a780d5eb>\u001b[0m in \u001b[0;36m<cell line: 13>\u001b[0;34m()\u001b[0m\n\u001b[1;32m     11\u001b[0m \u001b[0;34m\u001b[0m\u001b[0m\n\u001b[1;32m     12\u001b[0m \u001b[0;31m# Apply the function to each column\u001b[0m\u001b[0;34m\u001b[0m\u001b[0;34m\u001b[0m\u001b[0m\n\u001b[0;32m---> 13\u001b[0;31m \u001b[0mstatus_values\u001b[0m \u001b[0;34m=\u001b[0m \u001b[0mdf\u001b[0m\u001b[0;34m[\u001b[0m\u001b[0mstatus_columns\u001b[0m\u001b[0;34m]\u001b[0m\u001b[0;34m.\u001b[0m\u001b[0mapplymap\u001b[0m\u001b[0;34m(\u001b[0m\u001b[0mextract_status\u001b[0m\u001b[0;34m)\u001b[0m\u001b[0;34m\u001b[0m\u001b[0;34m\u001b[0m\u001b[0m\n\u001b[0m\u001b[1;32m     14\u001b[0m \u001b[0;34m\u001b[0m\u001b[0m\n\u001b[1;32m     15\u001b[0m \u001b[0;31m# Stack the DataFrame to create a Series\u001b[0m\u001b[0;34m\u001b[0m\u001b[0;34m\u001b[0m\u001b[0m\n",
            "\u001b[0;32m/usr/local/lib/python3.10/dist-packages/pandas/core/frame.py\u001b[0m in \u001b[0;36mapplymap\u001b[0;34m(self, func, na_action, **kwargs)\u001b[0m\n\u001b[1;32m   9651\u001b[0m             \u001b[0;32mreturn\u001b[0m \u001b[0mlib\u001b[0m\u001b[0;34m.\u001b[0m\u001b[0mmap_infer\u001b[0m\u001b[0;34m(\u001b[0m\u001b[0mx\u001b[0m\u001b[0;34m.\u001b[0m\u001b[0mastype\u001b[0m\u001b[0;34m(\u001b[0m\u001b[0mobject\u001b[0m\u001b[0;34m)\u001b[0m\u001b[0;34m.\u001b[0m\u001b[0m_values\u001b[0m\u001b[0;34m,\u001b[0m \u001b[0mfunc\u001b[0m\u001b[0;34m,\u001b[0m \u001b[0mignore_na\u001b[0m\u001b[0;34m=\u001b[0m\u001b[0mignore_na\u001b[0m\u001b[0;34m)\u001b[0m\u001b[0;34m\u001b[0m\u001b[0;34m\u001b[0m\u001b[0m\n\u001b[1;32m   9652\u001b[0m \u001b[0;34m\u001b[0m\u001b[0m\n\u001b[0;32m-> 9653\u001b[0;31m         \u001b[0;32mreturn\u001b[0m \u001b[0mself\u001b[0m\u001b[0;34m.\u001b[0m\u001b[0mapply\u001b[0m\u001b[0;34m(\u001b[0m\u001b[0minfer\u001b[0m\u001b[0;34m)\u001b[0m\u001b[0;34m.\u001b[0m\u001b[0m__finalize__\u001b[0m\u001b[0;34m(\u001b[0m\u001b[0mself\u001b[0m\u001b[0;34m,\u001b[0m \u001b[0;34m\"applymap\"\u001b[0m\u001b[0;34m)\u001b[0m\u001b[0;34m\u001b[0m\u001b[0;34m\u001b[0m\u001b[0m\n\u001b[0m\u001b[1;32m   9654\u001b[0m \u001b[0;34m\u001b[0m\u001b[0m\n\u001b[1;32m   9655\u001b[0m     \u001b[0;31m# ----------------------------------------------------------------------\u001b[0m\u001b[0;34m\u001b[0m\u001b[0;34m\u001b[0m\u001b[0m\n",
            "\u001b[0;32m/usr/local/lib/python3.10/dist-packages/pandas/core/frame.py\u001b[0m in \u001b[0;36mapply\u001b[0;34m(self, func, axis, raw, result_type, args, **kwargs)\u001b[0m\n\u001b[1;32m   9566\u001b[0m             \u001b[0mkwargs\u001b[0m\u001b[0;34m=\u001b[0m\u001b[0mkwargs\u001b[0m\u001b[0;34m,\u001b[0m\u001b[0;34m\u001b[0m\u001b[0;34m\u001b[0m\u001b[0m\n\u001b[1;32m   9567\u001b[0m         )\n\u001b[0;32m-> 9568\u001b[0;31m         \u001b[0;32mreturn\u001b[0m \u001b[0mop\u001b[0m\u001b[0;34m.\u001b[0m\u001b[0mapply\u001b[0m\u001b[0;34m(\u001b[0m\u001b[0;34m)\u001b[0m\u001b[0;34m.\u001b[0m\u001b[0m__finalize__\u001b[0m\u001b[0;34m(\u001b[0m\u001b[0mself\u001b[0m\u001b[0;34m,\u001b[0m \u001b[0mmethod\u001b[0m\u001b[0;34m=\u001b[0m\u001b[0;34m\"apply\"\u001b[0m\u001b[0;34m)\u001b[0m\u001b[0;34m\u001b[0m\u001b[0;34m\u001b[0m\u001b[0m\n\u001b[0m\u001b[1;32m   9569\u001b[0m \u001b[0;34m\u001b[0m\u001b[0m\n\u001b[1;32m   9570\u001b[0m     def applymap(\n",
            "\u001b[0;32m/usr/local/lib/python3.10/dist-packages/pandas/core/apply.py\u001b[0m in \u001b[0;36mapply\u001b[0;34m(self)\u001b[0m\n\u001b[1;32m    762\u001b[0m             \u001b[0;32mreturn\u001b[0m \u001b[0mself\u001b[0m\u001b[0;34m.\u001b[0m\u001b[0mapply_raw\u001b[0m\u001b[0;34m(\u001b[0m\u001b[0;34m)\u001b[0m\u001b[0;34m\u001b[0m\u001b[0;34m\u001b[0m\u001b[0m\n\u001b[1;32m    763\u001b[0m \u001b[0;34m\u001b[0m\u001b[0m\n\u001b[0;32m--> 764\u001b[0;31m         \u001b[0;32mreturn\u001b[0m \u001b[0mself\u001b[0m\u001b[0;34m.\u001b[0m\u001b[0mapply_standard\u001b[0m\u001b[0;34m(\u001b[0m\u001b[0;34m)\u001b[0m\u001b[0;34m\u001b[0m\u001b[0;34m\u001b[0m\u001b[0m\n\u001b[0m\u001b[1;32m    765\u001b[0m \u001b[0;34m\u001b[0m\u001b[0m\n\u001b[1;32m    766\u001b[0m     \u001b[0;32mdef\u001b[0m \u001b[0magg\u001b[0m\u001b[0;34m(\u001b[0m\u001b[0mself\u001b[0m\u001b[0;34m)\u001b[0m\u001b[0;34m:\u001b[0m\u001b[0;34m\u001b[0m\u001b[0;34m\u001b[0m\u001b[0m\n",
            "\u001b[0;32m/usr/local/lib/python3.10/dist-packages/pandas/core/apply.py\u001b[0m in \u001b[0;36mapply_standard\u001b[0;34m(self)\u001b[0m\n\u001b[1;32m    889\u001b[0m \u001b[0;34m\u001b[0m\u001b[0m\n\u001b[1;32m    890\u001b[0m     \u001b[0;32mdef\u001b[0m \u001b[0mapply_standard\u001b[0m\u001b[0;34m(\u001b[0m\u001b[0mself\u001b[0m\u001b[0;34m)\u001b[0m\u001b[0;34m:\u001b[0m\u001b[0;34m\u001b[0m\u001b[0;34m\u001b[0m\u001b[0m\n\u001b[0;32m--> 891\u001b[0;31m         \u001b[0mresults\u001b[0m\u001b[0;34m,\u001b[0m \u001b[0mres_index\u001b[0m \u001b[0;34m=\u001b[0m \u001b[0mself\u001b[0m\u001b[0;34m.\u001b[0m\u001b[0mapply_series_generator\u001b[0m\u001b[0;34m(\u001b[0m\u001b[0;34m)\u001b[0m\u001b[0;34m\u001b[0m\u001b[0;34m\u001b[0m\u001b[0m\n\u001b[0m\u001b[1;32m    892\u001b[0m \u001b[0;34m\u001b[0m\u001b[0m\n\u001b[1;32m    893\u001b[0m         \u001b[0;31m# wrap results\u001b[0m\u001b[0;34m\u001b[0m\u001b[0;34m\u001b[0m\u001b[0m\n",
            "\u001b[0;32m/usr/local/lib/python3.10/dist-packages/pandas/core/apply.py\u001b[0m in \u001b[0;36mapply_series_generator\u001b[0;34m(self)\u001b[0m\n\u001b[1;32m    905\u001b[0m             \u001b[0;32mfor\u001b[0m \u001b[0mi\u001b[0m\u001b[0;34m,\u001b[0m \u001b[0mv\u001b[0m \u001b[0;32min\u001b[0m \u001b[0menumerate\u001b[0m\u001b[0;34m(\u001b[0m\u001b[0mseries_gen\u001b[0m\u001b[0;34m)\u001b[0m\u001b[0;34m:\u001b[0m\u001b[0;34m\u001b[0m\u001b[0;34m\u001b[0m\u001b[0m\n\u001b[1;32m    906\u001b[0m                 \u001b[0;31m# ignore SettingWithCopy here in case the user mutates\u001b[0m\u001b[0;34m\u001b[0m\u001b[0;34m\u001b[0m\u001b[0m\n\u001b[0;32m--> 907\u001b[0;31m                 \u001b[0mresults\u001b[0m\u001b[0;34m[\u001b[0m\u001b[0mi\u001b[0m\u001b[0;34m]\u001b[0m \u001b[0;34m=\u001b[0m \u001b[0mself\u001b[0m\u001b[0;34m.\u001b[0m\u001b[0mf\u001b[0m\u001b[0;34m(\u001b[0m\u001b[0mv\u001b[0m\u001b[0;34m)\u001b[0m\u001b[0;34m\u001b[0m\u001b[0;34m\u001b[0m\u001b[0m\n\u001b[0m\u001b[1;32m    908\u001b[0m                 \u001b[0;32mif\u001b[0m \u001b[0misinstance\u001b[0m\u001b[0;34m(\u001b[0m\u001b[0mresults\u001b[0m\u001b[0;34m[\u001b[0m\u001b[0mi\u001b[0m\u001b[0;34m]\u001b[0m\u001b[0;34m,\u001b[0m \u001b[0mABCSeries\u001b[0m\u001b[0;34m)\u001b[0m\u001b[0;34m:\u001b[0m\u001b[0;34m\u001b[0m\u001b[0;34m\u001b[0m\u001b[0m\n\u001b[1;32m    909\u001b[0m                     \u001b[0;31m# If we have a view on v, we need to make a copy because\u001b[0m\u001b[0;34m\u001b[0m\u001b[0;34m\u001b[0m\u001b[0m\n",
            "\u001b[0;32m/usr/local/lib/python3.10/dist-packages/pandas/core/frame.py\u001b[0m in \u001b[0;36minfer\u001b[0;34m(x)\u001b[0m\n\u001b[1;32m   9649\u001b[0m             \u001b[0;32mif\u001b[0m \u001b[0mx\u001b[0m\u001b[0;34m.\u001b[0m\u001b[0mempty\u001b[0m\u001b[0;34m:\u001b[0m\u001b[0;34m\u001b[0m\u001b[0;34m\u001b[0m\u001b[0m\n\u001b[1;32m   9650\u001b[0m                 \u001b[0;32mreturn\u001b[0m \u001b[0mlib\u001b[0m\u001b[0;34m.\u001b[0m\u001b[0mmap_infer\u001b[0m\u001b[0;34m(\u001b[0m\u001b[0mx\u001b[0m\u001b[0;34m,\u001b[0m \u001b[0mfunc\u001b[0m\u001b[0;34m,\u001b[0m \u001b[0mignore_na\u001b[0m\u001b[0;34m=\u001b[0m\u001b[0mignore_na\u001b[0m\u001b[0;34m)\u001b[0m\u001b[0;34m\u001b[0m\u001b[0;34m\u001b[0m\u001b[0m\n\u001b[0;32m-> 9651\u001b[0;31m             \u001b[0;32mreturn\u001b[0m \u001b[0mlib\u001b[0m\u001b[0;34m.\u001b[0m\u001b[0mmap_infer\u001b[0m\u001b[0;34m(\u001b[0m\u001b[0mx\u001b[0m\u001b[0;34m.\u001b[0m\u001b[0mastype\u001b[0m\u001b[0;34m(\u001b[0m\u001b[0mobject\u001b[0m\u001b[0;34m)\u001b[0m\u001b[0;34m.\u001b[0m\u001b[0m_values\u001b[0m\u001b[0;34m,\u001b[0m \u001b[0mfunc\u001b[0m\u001b[0;34m,\u001b[0m \u001b[0mignore_na\u001b[0m\u001b[0;34m=\u001b[0m\u001b[0mignore_na\u001b[0m\u001b[0;34m)\u001b[0m\u001b[0;34m\u001b[0m\u001b[0;34m\u001b[0m\u001b[0m\n\u001b[0m\u001b[1;32m   9652\u001b[0m \u001b[0;34m\u001b[0m\u001b[0m\n\u001b[1;32m   9653\u001b[0m         \u001b[0;32mreturn\u001b[0m \u001b[0mself\u001b[0m\u001b[0;34m.\u001b[0m\u001b[0mapply\u001b[0m\u001b[0;34m(\u001b[0m\u001b[0minfer\u001b[0m\u001b[0;34m)\u001b[0m\u001b[0;34m.\u001b[0m\u001b[0m__finalize__\u001b[0m\u001b[0;34m(\u001b[0m\u001b[0mself\u001b[0m\u001b[0;34m,\u001b[0m \u001b[0;34m\"applymap\"\u001b[0m\u001b[0;34m)\u001b[0m\u001b[0;34m\u001b[0m\u001b[0;34m\u001b[0m\u001b[0m\n",
            "\u001b[0;32m/usr/local/lib/python3.10/dist-packages/pandas/_libs/lib.pyx\u001b[0m in \u001b[0;36mpandas._libs.lib.map_infer\u001b[0;34m()\u001b[0m\n",
            "\u001b[0;32m<ipython-input-27-5fd7a780d5eb>\u001b[0m in \u001b[0;36mextract_status\u001b[0;34m(x)\u001b[0m\n\u001b[1;32m      5\u001b[0m \u001b[0;32mdef\u001b[0m \u001b[0mextract_status\u001b[0m\u001b[0;34m(\u001b[0m\u001b[0mx\u001b[0m\u001b[0;34m)\u001b[0m\u001b[0;34m:\u001b[0m\u001b[0;34m\u001b[0m\u001b[0;34m\u001b[0m\u001b[0m\n\u001b[1;32m      6\u001b[0m     \u001b[0;32mif\u001b[0m \u001b[0mpd\u001b[0m\u001b[0;34m.\u001b[0m\u001b[0mnotna\u001b[0m\u001b[0;34m(\u001b[0m\u001b[0mx\u001b[0m\u001b[0;34m)\u001b[0m\u001b[0;34m:\u001b[0m\u001b[0;34m\u001b[0m\u001b[0;34m\u001b[0m\u001b[0m\n\u001b[0;32m----> 7\u001b[0;31m         \u001b[0mmatch\u001b[0m \u001b[0;34m=\u001b[0m \u001b[0mre\u001b[0m\u001b[0;34m.\u001b[0m\u001b[0msearch\u001b[0m\u001b[0;34m(\u001b[0m\u001b[0;34mr'\\[([^\\]]+)\\]'\u001b[0m\u001b[0;34m,\u001b[0m \u001b[0mx\u001b[0m\u001b[0;34m)\u001b[0m\u001b[0;34m\u001b[0m\u001b[0;34m\u001b[0m\u001b[0m\n\u001b[0m\u001b[1;32m      8\u001b[0m         \u001b[0;32mif\u001b[0m \u001b[0mmatch\u001b[0m\u001b[0;34m:\u001b[0m\u001b[0;34m\u001b[0m\u001b[0;34m\u001b[0m\u001b[0m\n\u001b[1;32m      9\u001b[0m             \u001b[0;32mreturn\u001b[0m \u001b[0mmatch\u001b[0m\u001b[0;34m.\u001b[0m\u001b[0mgroup\u001b[0m\u001b[0;34m(\u001b[0m\u001b[0;36m1\u001b[0m\u001b[0;34m)\u001b[0m\u001b[0;34m\u001b[0m\u001b[0;34m\u001b[0m\u001b[0m\n",
            "\u001b[0;31mNameError\u001b[0m: name 're' is not defined"
          ]
        }
      ]
    },
    {
      "cell_type": "code",
      "source": [
        "# 9. Satellite Operational Status\n",
        "import re\n",
        "status_columns = ['OBJECT_NAME_1', 'OBJECT_NAME_2']\n",
        "\n",
        "# Define a function to extract the operational status\n",
        "def extract_status(x):\n",
        "    if pd.notna(x):\n",
        "        match = re.search(r'\\[([^\\]]+)\\]', x)\n",
        "        if match:\n",
        "            return match.group(1)\n",
        "    return 'Unknown'  # If no match or NaN, consider the status as 'Unknown'\n",
        "\n",
        "# Apply the function to each column\n",
        "status_values = df[status_columns].applymap(extract_status)\n",
        "\n",
        "# Stack the DataFrame to create a Series\n",
        "status_series = status_values.stack()\n",
        "\n",
        "# Count the occurrences of each status\n",
        "satellite_status_counts = status_series.value_counts()\n",
        "\n",
        "print(f\"9. Satellite Operational Status: \\n{satellite_status_counts}\")\n",
        "\n",
        "# Plot the number of conjunctions over time\n",
        "plt.figure(figsize=(12, 6))\n",
        "plt.plot(df['TCA'], range(len(df)), marker='o', linestyle='-', color='b')\n",
        "plt.title('Time of Closest Approach Analysis')\n",
        "plt.xlabel('Time of Closest Approach (UTC)')\n",
        "plt.ylabel('Number of Conjunctions')\n",
        "plt.show()"
      ],
      "metadata": {
        "colab": {
          "base_uri": "https://localhost:8080/",
          "height": 696
        },
        "id": "nECWoggtM4H1",
        "outputId": "fd1da712-63ad-4195-ca3b-67351b40b9c9"
      },
      "execution_count": 29,
      "outputs": [
        {
          "output_type": "stream",
          "name": "stdout",
          "text": [
            "9. Satellite Operational Status: \n",
            "+    95040\n",
            "-    36582\n",
            "?     3276\n",
            "P     1876\n",
            "X      151\n",
            "B       97\n",
            "dtype: int64\n"
          ]
        },
        {
          "output_type": "display_data",
          "data": {
            "text/plain": [
              "<Figure size 1200x600 with 1 Axes>"
            ],
            "image/png": "[encoded data removed]"
          },
          "metadata": {}
        }
      ]
    },
    {
      "cell_type": "code",
      "source": [
        "# 10.Top Conjunctions by Maximum Probability\n",
        "top_conjunctions = df.sort_values(by='MAX_PROB', ascending=False).head(10)\n",
        "top_conjunctions"
      ],
      "metadata": {
        "colab": {
          "base_uri": "https://localhost:8080/",
          "height": 574
        },
        "id": "RNuEErbEaDFZ",
        "outputId": "4a3ab92c-8157-4021-c871-c3e59162b346"
      },
      "execution_count": 30,
      "outputs": [
        {
          "output_type": "execute_result",
          "data": {
            "text/plain": [
              "    NORAD_CAT_ID_1              OBJECT_NAME_1  DSE_1  NORAD_CAT_ID_2  \\\n",
              "5            46537          STARLINK-1672 [+]  1.254           53815   \n",
              "35           45390          STARLINK-1284 [+]  5.384           45685   \n",
              "0            46943                  BRO-3 [+]  1.034           56798   \n",
              "2            57192  SITRO-AIS 6 (CHIRKIN) [+]  6.431           17316   \n",
              "50           47607          STARLINK-2025 [P]  3.691           47824   \n",
              "21           49745          STARLINK-3241 [+]  1.715            1672   \n",
              "15           51792          STARLINK-3626 [+]  5.005           55327   \n",
              "1            57342          STARLINK-6375 [+]  6.817           27226   \n",
              "10           52156               OBJECT D [+]  1.150           55758   \n",
              "20           45684          STARLINK-1401 [P]  0.720           57886   \n",
              "\n",
              "                 OBJECT_NAME_2  DSE_2                     TCA  TCA_RANGE  \\\n",
              "5                  STRIX-1 [+]  0.992 2023-11-10 18:43:50.226      0.054   \n",
              "35           STARLINK-1402 [P]  5.529 2023-11-14 20:08:55.741      0.107   \n",
              "0            STARLINK-6068 [+]  1.071 2023-11-10 19:41:58.190      0.017   \n",
              "2             ARIANE 1 DEB [-]  6.845 2023-11-16 06:09:36.351      0.023   \n",
              "50           STARLINK-2409 [+]  3.707 2023-11-12 20:48:45.641      0.127   \n",
              "21  TITAN 3C TRANSTAGE DEB [-]  1.718 2023-11-11 06:52:55.953      0.084   \n",
              "15                 HAWK-6A [+]  4.694 2023-11-14 02:58:29.069      0.079   \n",
              "1                 PSLV DEB [-]  8.764 2023-11-16 14:43:00.723      0.021   \n",
              "10           STARLINK-5072 [+]  1.087 2023-11-10 22:12:27.701      0.066   \n",
              "20           YAOGAN-39 02A [+]  0.299 2023-11-10 00:05:41.538      0.084   \n",
              "\n",
              "    TCA_RELATIVE_SPEED  MAX_PROB  DILUTION         ConjunctionTime  \n",
              "5                6.638  0.012080     0.014 2023-11-10 18:43:50.226  \n",
              "35               8.991  0.007911     0.030 2023-11-14 20:08:55.741  \n",
              "0               14.823  0.006440     0.010 2023-11-10 19:41:58.190  \n",
              "2               11.982  0.005572     0.008 2023-11-16 06:09:36.351  \n",
              "50              10.211  0.005290     0.039 2023-11-12 20:48:45.641  \n",
              "21               4.993  0.005288     0.021 2023-11-11 06:52:55.953  \n",
              "15              10.408  0.004779     0.025 2023-11-14 02:58:29.069  \n",
              "1               14.114  0.004623     0.011 2023-11-16 14:43:00.723  \n",
              "10              13.988  0.004491     0.032 2023-11-10 22:12:27.701  \n",
              "20              10.270  0.004282     0.026 2023-11-10 00:05:41.538  "
            ],
            "text/html": [
              "\n",
              "  <div id=\"df-fa1c654b-758f-4a29-943e-67f2775c080d\" class=\"colab-df-container\">\n",
              "    <div>\n",
              "<style scoped>\n",
              "    .dataframe tbody tr th:only-of-type {\n",
              "        vertical-align: middle;\n",
              "    }\n",
              "\n",
              "    .dataframe tbody tr th {\n",
              "        vertical-align: top;\n",
              "    }\n",
              "\n",
              "    .dataframe thead th {\n",
              "        text-align: right;\n",
              "    }\n",
              "</style>\n",
              "<table border=\"1\" class=\"dataframe\">\n",
              "  <thead>\n",
              "    <tr style=\"text-align: right;\">\n",
              "      <th></th>\n",
              "      <th>NORAD_CAT_ID_1</th>\n",
              "      <th>OBJECT_NAME_1</th>\n",
              "      <th>DSE_1</th>\n",
              "      <th>NORAD_CAT_ID_2</th>\n",
              "      <th>OBJECT_NAME_2</th>\n",
              "      <th>DSE_2</th>\n",
              "      <th>TCA</th>\n",
              "      <th>TCA_RANGE</th>\n",
              "      <th>TCA_RELATIVE_SPEED</th>\n",
              "      <th>MAX_PROB</th>\n",
              "      <th>DILUTION</th>\n",
              "      <th>ConjunctionTime</th>\n",
              "    </tr>\n",
              "  </thead>\n",
              "  <tbody>\n",
              "    <tr>\n",
              "      <th>5</th>\n",
              "      <td>46537</td>\n",
              "      <td>STARLINK-1672 [+]</td>\n",
              "      <td>1.254</td>\n",
              "      <td>53815</td>\n",
              "      <td>STRIX-1 [+]</td>\n",
              "      <td>0.992</td>\n",
              "      <td>2023-11-10 18:43:50.226</td>\n",
              "      <td>0.054</td>\n",
              "      <td>6.638</td>\n",
              "      <td>0.012080</td>\n",
              "      <td>0.014</td>\n",
              "      <td>2023-11-10 18:43:50.226</td>\n",
              "    </tr>\n",
              "    <tr>\n",
              "      <th>35</th>\n",
              "      <td>45390</td>\n",
              "      <td>STARLINK-1284 [+]</td>\n",
              "      <td>5.384</td>\n",
              "      <td>45685</td>\n",
              "      <td>STARLINK-1402 [P]</td>\n",
              "      <td>5.529</td>\n",
              "      <td>2023-11-14 20:08:55.741</td>\n",
              "      <td>0.107</td>\n",
              "      <td>8.991</td>\n",
              "      <td>0.007911</td>\n",
              "      <td>0.030</td>\n",
              "      <td>2023-11-14 20:08:55.741</td>\n",
              "    </tr>\n",
              "    <tr>\n",
              "      <th>0</th>\n",
              "      <td>46943</td>\n",
              "      <td>BRO-3 [+]</td>\n",
              "      <td>1.034</td>\n",
              "      <td>56798</td>\n",
              "      <td>STARLINK-6068 [+]</td>\n",
              "      <td>1.071</td>\n",
              "      <td>2023-11-10 19:41:58.190</td>\n",
              "      <td>0.017</td>\n",
              "      <td>14.823</td>\n",
              "      <td>0.006440</td>\n",
              "      <td>0.010</td>\n",
              "      <td>2023-11-10 19:41:58.190</td>\n",
              "    </tr>\n",
              "    <tr>\n",
              "      <th>2</th>\n",
              "      <td>57192</td>\n",
              "      <td>SITRO-AIS 6 (CHIRKIN) [+]</td>\n",
              "      <td>6.431</td>\n",
              "      <td>17316</td>\n",
              "      <td>ARIANE 1 DEB [-]</td>\n",
              "      <td>6.845</td>\n",
              "      <td>2023-11-16 06:09:36.351</td>\n",
              "      <td>0.023</td>\n",
              "      <td>11.982</td>\n",
              "      <td>0.005572</td>\n",
              "      <td>0.008</td>\n",
              "      <td>2023-11-16 06:09:36.351</td>\n",
              "    </tr>\n",
              "    <tr>\n",
              "      <th>50</th>\n",
              "      <td>47607</td>\n",
              "      <td>STARLINK-2025 [P]</td>\n",
              "      <td>3.691</td>\n",
              "      <td>47824</td>\n",
              "      <td>STARLINK-2409 [+]</td>\n",
              "      <td>3.707</td>\n",
              "      <td>2023-11-12 20:48:45.641</td>\n",
              "      <td>0.127</td>\n",
              "      <td>10.211</td>\n",
              "      <td>0.005290</td>\n",
              "      <td>0.039</td>\n",
              "      <td>2023-11-12 20:48:45.641</td>\n",
              "    </tr>\n",
              "    <tr>\n",
              "      <th>21</th>\n",
              "      <td>49745</td>\n",
              "      <td>STARLINK-3241 [+]</td>\n",
              "      <td>1.715</td>\n",
              "      <td>1672</td>\n",
              "      <td>TITAN 3C TRANSTAGE DEB [-]</td>\n",
              "      <td>1.718</td>\n",
              "      <td>2023-11-11 06:52:55.953</td>\n",
              "      <td>0.084</td>\n",
              "      <td>4.993</td>\n",
              "      <td>0.005288</td>\n",
              "      <td>0.021</td>\n",
              "      <td>2023-11-11 06:52:55.953</td>\n",
              "    </tr>\n",
              "    <tr>\n",
              "      <th>15</th>\n",
              "      <td>51792</td>\n",
              "      <td>STARLINK-3626 [+]</td>\n",
              "      <td>5.005</td>\n",
              "      <td>55327</td>\n",
              "      <td>HAWK-6A [+]</td>\n",
              "      <td>4.694</td>\n",
              "      <td>2023-11-14 02:58:29.069</td>\n",
              "      <td>0.079</td>\n",
              "      <td>10.408</td>\n",
              "      <td>0.004779</td>\n",
              "      <td>0.025</td>\n",
              "      <td>2023-11-14 02:58:29.069</td>\n",
              "    </tr>\n",
              "    <tr>\n",
              "      <th>1</th>\n",
              "      <td>57342</td>\n",
              "      <td>STARLINK-6375 [+]</td>\n",
              "      <td>6.817</td>\n",
              "      <td>27226</td>\n",
              "      <td>PSLV DEB [-]</td>\n",
              "      <td>8.764</td>\n",
              "      <td>2023-11-16 14:43:00.723</td>\n",
              "      <td>0.021</td>\n",
              "      <td>14.114</td>\n",
              "      <td>0.004623</td>\n",
              "      <td>0.011</td>\n",
              "      <td>2023-11-16 14:43:00.723</td>\n",
              "    </tr>\n",
              "    <tr>\n",
              "      <th>10</th>\n",
              "      <td>52156</td>\n",
              "      <td>OBJECT D [+]</td>\n",
              "      <td>1.150</td>\n",
              "      <td>55758</td>\n",
              "      <td>STARLINK-5072 [+]</td>\n",
              "      <td>1.087</td>\n",
              "      <td>2023-11-10 22:12:27.701</td>\n",
              "      <td>0.066</td>\n",
              "      <td>13.988</td>\n",
              "      <td>0.004491</td>\n",
              "      <td>0.032</td>\n",
              "      <td>2023-11-10 22:12:27.701</td>\n",
              "    </tr>\n",
              "    <tr>\n",
              "      <th>20</th>\n",
              "      <td>45684</td>\n",
              "      <td>STARLINK-1401 [P]</td>\n",
              "      <td>0.720</td>\n",
              "      <td>57886</td>\n",
              "      <td>YAOGAN-39 02A [+]</td>\n",
              "      <td>0.299</td>\n",
              "      <td>2023-11-10 00:05:41.538</td>\n",
              "      <td>0.084</td>\n",
              "      <td>10.270</td>\n",
              "      <td>0.004282</td>\n",
              "      <td>0.026</td>\n",
              "      <td>2023-11-10 00:05:41.538</td>\n",
              "    </tr>\n",
              "  </tbody>\n",
              "</table>\n",
              "</div>\n",
              "    <div class=\"colab-df-buttons\">\n",
              "\n",
              "  <div class=\"colab-df-container\">\n",
              "    <button class=\"colab-df-convert\" onclick=\"convertToInteractive('df-fa1c654b-758f-4a29-943e-67f2775c080d')\"\n",
              "            title=\"Convert this dataframe to an interactive table.\"\n",
              "            style=\"display:none;\">\n",
              "\n",
              "  <svg xmlns=\"http://www.w3.org/2000/svg\" height=\"24px\" viewBox=\"0 -960 960 960\">\n",
              "    <path d=\"M120-120v-720h720v720H120Zm60-500h600v-160H180v160Zm220 220h160v-160H400v160Zm0 220h160v-160H400v160ZM180-400h160v-160H180v160Zm440 0h160v-160H620v160ZM180-180h160v-160H180v160Zm440 0h160v-160H620v160Z\"/>\n",
              "  </svg>\n",
              "    </button>\n",
              "\n",
              "  <style>\n",
              "    .colab-df-container {\n",
              "      display:flex;\n",
              "      gap: 12px;\n",
              "    }\n",
              "\n",
              "    .colab-df-convert {\n",
              "      background-color: #E8F0FE;\n",
              "      border: none;\n",
              "      border-radius: 50%;\n",
              "      cursor: pointer;\n",
              "      display: none;\n",
              "      fill: #1967D2;\n",
              "      height: 32px;\n",
              "      padding: 0 0 0 0;\n",
              "      width: 32px;\n",
              "    }\n",
              "\n",
              "    .colab-df-convert:hover {\n",
              "      background-color: #E2EBFA;\n",
              "      box-shadow: 0px 1px 2px rgba(60, 64, 67, 0.3), 0px 1px 3px 1px rgba(60, 64, 67, 0.15);\n",
              "      fill: #174EA6;\n",
              "    }\n",
              "\n",
              "    .colab-df-buttons div {\n",
              "      margin-bottom: 4px;\n",
              "    }\n",
              "\n",
              "    [theme=dark] .colab-df-convert {\n",
              "      background-color: #3B4455;\n",
              "      fill: #D2E3FC;\n",
              "    }\n",
              "\n",
              "    [theme=dark] .colab-df-convert:hover {\n",
              "      background-color: #434B5C;\n",
              "      box-shadow: 0px 1px 3px 1px rgba(0, 0, 0, 0.15);\n",
              "      filter: drop-shadow(0px 1px 2px rgba(0, 0, 0, 0.3));\n",
              "      fill: #FFFFFF;\n",
              "    }\n",
              "  </style>\n",
              "\n",
              "    <script>\n",
              "      const buttonEl =\n",
              "        document.querySelector('#df-fa1c654b-758f-4a29-943e-67f2775c080d button.colab-df-convert');\n",
              "      buttonEl.style.display =\n",
              "        google.colab.kernel.accessAllowed ? 'block' : 'none';\n",
              "\n",
              "      async function convertToInteractive(key) {\n",
              "        const element = document.querySelector('#df-fa1c654b-758f-4a29-943e-67f2775c080d');\n",
              "        const dataTable =\n",
              "          await google.colab.kernel.invokeFunction('convertToInteractive',\n",
              "                                                    [key], {});\n",
              "        if (!dataTable) return;\n",
              "\n",
              "        const docLinkHtml = 'Like what you see? Visit the ' +\n",
              "          '<a target=\"_blank\" href=https://colab.research.google.com/notebooks/data_table.ipynb>data table notebook</a>'\n",
              "          + ' to learn more about interactive tables.';\n",
              "        element.innerHTML = '';\n",
              "        dataTable['output_type'] = 'display_data';\n",
              "        await google.colab.output.renderOutput(dataTable, element);\n",
              "        const docLink = document.createElement('div');\n",
              "        docLink.innerHTML = docLinkHtml;\n",
              "        element.appendChild(docLink);\n",
              "      }\n",
              "    </script>\n",
              "  </div>\n",
              "\n",
              "\n",
              "<div id=\"df-87c25a4c-c559-4099-910d-8075a69eb2ad\">\n",
              "  <button class=\"colab-df-quickchart\" onclick=\"quickchart('df-87c25a4c-c559-4099-910d-8075a69eb2ad')\"\n",
              "            title=\"Suggest charts\"\n",
              "            style=\"display:none;\">\n",
              "\n",
              "<svg xmlns=\"http://www.w3.org/2000/svg\" height=\"24px\"viewBox=\"0 0 24 24\"\n",
              "     width=\"24px\">\n",
              "    <g>\n",
              "        <path d=\"M19 3H5c-1.1 0-2 .9-2 2v14c0 1.1.9 2 2 2h14c1.1 0 2-.9 2-2V5c0-1.1-.9-2-2-2zM9 17H7v-7h2v7zm4 0h-2V7h2v10zm4 0h-2v-4h2v4z\"/>\n",
              "    </g>\n",
              "</svg>\n",
              "  </button>\n",
              "\n",
              "<style>\n",
              "  .colab-df-quickchart {\n",
              "      --bg-color: #E8F0FE;\n",
              "      --fill-color: #1967D2;\n",
              "      --hover-bg-color: #E2EBFA;\n",
              "      --hover-fill-color: #174EA6;\n",
              "      --disabled-fill-color: #AAA;\n",
              "      --disabled-bg-color: #DDD;\n",
              "  }\n",
              "\n",
              "  [theme=dark] .colab-df-quickchart {\n",
              "      --bg-color: #3B4455;\n",
              "      --fill-color: #D2E3FC;\n",
              "      --hover-bg-color: #434B5C;\n",
              "      --hover-fill-color: #FFFFFF;\n",
              "      --disabled-bg-color: #3B4455;\n",
              "      --disabled-fill-color: #666;\n",
              "  }\n",
              "\n",
              "  .colab-df-quickchart {\n",
              "    background-color: var(--bg-color);\n",
              "    border: none;\n",
              "    border-radius: 50%;\n",
              "    cursor: pointer;\n",
              "    display: none;\n",
              "    fill: var(--fill-color);\n",
              "    height: 32px;\n",
              "    padding: 0;\n",
              "    width: 32px;\n",
              "  }\n",
              "\n",
              "  .colab-df-quickchart:hover {\n",
              "    background-color: var(--hover-bg-color);\n",
              "    box-shadow: 0 1px 2px rgba(60, 64, 67, 0.3), 0 1px 3px 1px rgba(60, 64, 67, 0.15);\n",
              "    fill: var(--button-hover-fill-color);\n",
              "  }\n",
              "\n",
              "  .colab-df-quickchart-complete:disabled,\n",
              "  .colab-df-quickchart-complete:disabled:hover {\n",
              "    background-color: var(--disabled-bg-color);\n",
              "    fill: var(--disabled-fill-color);\n",
              "    box-shadow: none;\n",
              "  }\n",
              "\n",
              "  .colab-df-spinner {\n",
              "    border: 2px solid var(--fill-color);\n",
              "    border-color: transparent;\n",
              "    border-bottom-color: var(--fill-color);\n",
              "    animation:\n",
              "      spin 1s steps(1) infinite;\n",
              "  }\n",
              "\n",
              "  @keyframes spin {\n",
              "    0% {\n",
              "      border-color: transparent;\n",
              "      border-bottom-color: var(--fill-color);\n",
              "      border-left-color: var(--fill-color);\n",
              "    }\n",
              "    20% {\n",
              "      border-color: transparent;\n",
              "      border-left-color: var(--fill-color);\n",
              "      border-top-color: var(--fill-color);\n",
              "    }\n",
              "    30% {\n",
              "      border-color: transparent;\n",
              "      border-left-color: var(--fill-color);\n",
              "      border-top-color: var(--fill-color);\n",
              "      border-right-color: var(--fill-color);\n",
              "    }\n",
              "    40% {\n",
              "      border-color: transparent;\n",
              "      border-right-color: var(--fill-color);\n",
              "      border-top-color: var(--fill-color);\n",
              "    }\n",
              "    60% {\n",
              "      border-color: transparent;\n",
              "      border-right-color: var(--fill-color);\n",
              "    }\n",
              "    80% {\n",
              "      border-color: transparent;\n",
              "      border-right-color: var(--fill-color);\n",
              "      border-bottom-color: var(--fill-color);\n",
              "    }\n",
              "    90% {\n",
              "      border-color: transparent;\n",
              "      border-bottom-color: var(--fill-color);\n",
              "    }\n",
              "  }\n",
              "</style>\n",
              "\n",
              "  <script>\n",
              "    async function quickchart(key) {\n",
              "      const quickchartButtonEl =\n",
              "        document.querySelector('#' + key + ' button');\n",
              "      quickchartButtonEl.disabled = true;  // To prevent multiple clicks.\n",
              "      quickchartButtonEl.classList.add('colab-df-spinner');\n",
              "      try {\n",
              "        const charts = await google.colab.kernel.invokeFunction(\n",
              "            'suggestCharts', [key], {});\n",
              "      } catch (error) {\n",
              "        console.error('Error during call to suggestCharts:', error);\n",
              "      }\n",
              "      quickchartButtonEl.classList.remove('colab-df-spinner');\n",
              "      quickchartButtonEl.classList.add('colab-df-quickchart-complete');\n",
              "    }\n",
              "    (() => {\n",
              "      let quickchartButtonEl =\n",
              "        document.querySelector('#df-87c25a4c-c559-4099-910d-8075a69eb2ad button');\n",
              "      quickchartButtonEl.style.display =\n",
              "        google.colab.kernel.accessAllowed ? 'block' : 'none';\n",
              "    })();\n",
              "  </script>\n",
              "</div>\n",
              "    </div>\n",
              "  </div>\n"
            ]
          },
          "metadata": {},
          "execution_count": 30
        }
      ]
    },
    {
      "cell_type": "code",
      "source": [
        "# Display results\n",
        "print(f\"1. Total Number of Conjunctions: {total_conjunctions}\")\n",
        "print(f\"2. Number of Active Satellites: {num_active_satellites}\")\n",
        "print(f\"4. Dilution Thresholds: {dilution_thresholds}\")\n",
        "print(f\"9. Satellite Operational Status: \\n{satellite_status_counts}\")\n",
        "print(f\"10. Top Conjunctions by Maximum Probability: \\n{top_conjunctions}\")"
      ],
      "metadata": {
        "colab": {
          "base_uri": "https://localhost:8080/"
        },
        "id": "Sfh02yp2aeIP",
        "outputId": "e5637a35-8d51-45ac-8dd4-3cdcfb40001c"
      },
      "execution_count": 31,
      "outputs": [
        {
          "output_type": "stream",
          "name": "stdout",
          "text": [
            "1. Total Number of Conjunctions: 68511\n",
            "2. Number of Active Satellites: 15332\n",
            "4. Dilution Thresholds: [0.01  0.011 0.008 ... 3.467 3.498 3.322]\n",
            "9. Satellite Operational Status: \n",
            "+    95040\n",
            "-    36582\n",
            "?     3276\n",
            "P     1876\n",
            "X      151\n",
            "B       97\n",
            "dtype: int64\n",
            "10. Top Conjunctions by Maximum Probability: \n",
            "    NORAD_CAT_ID_1              OBJECT_NAME_1  DSE_1  NORAD_CAT_ID_2  \\\n",
            "5            46537          STARLINK-1672 [+]  1.254           53815   \n",
            "35           45390          STARLINK-1284 [+]  5.384           45685   \n",
            "0            46943                  BRO-3 [+]  1.034           56798   \n",
            "2            57192  SITRO-AIS 6 (CHIRKIN) [+]  6.431           17316   \n",
            "50           47607          STARLINK-2025 [P]  3.691           47824   \n",
            "21           49745          STARLINK-3241 [+]  1.715            1672   \n",
            "15           51792          STARLINK-3626 [+]  5.005           55327   \n",
            "1            57342          STARLINK-6375 [+]  6.817           27226   \n",
            "10           52156               OBJECT D [+]  1.150           55758   \n",
            "20           45684          STARLINK-1401 [P]  0.720           57886   \n",
            "\n",
            "                 OBJECT_NAME_2  DSE_2                     TCA  TCA_RANGE  \\\n",
            "5                  STRIX-1 [+]  0.992 2023-11-10 18:43:50.226      0.054   \n",
            "35           STARLINK-1402 [P]  5.529 2023-11-14 20:08:55.741      0.107   \n",
            "0            STARLINK-6068 [+]  1.071 2023-11-10 19:41:58.190      0.017   \n",
            "2             ARIANE 1 DEB [-]  6.845 2023-11-16 06:09:36.351      0.023   \n",
            "50           STARLINK-2409 [+]  3.707 2023-11-12 20:48:45.641      0.127   \n",
            "21  TITAN 3C TRANSTAGE DEB [-]  1.718 2023-11-11 06:52:55.953      0.084   \n",
            "15                 HAWK-6A [+]  4.694 2023-11-14 02:58:29.069      0.079   \n",
            "1                 PSLV DEB [-]  8.764 2023-11-16 14:43:00.723      0.021   \n",
            "10           STARLINK-5072 [+]  1.087 2023-11-10 22:12:27.701      0.066   \n",
            "20           YAOGAN-39 02A [+]  0.299 2023-11-10 00:05:41.538      0.084   \n",
            "\n",
            "    TCA_RELATIVE_SPEED  MAX_PROB  DILUTION         ConjunctionTime  \n",
            "5                6.638  0.012080     0.014 2023-11-10 18:43:50.226  \n",
            "35               8.991  0.007911     0.030 2023-11-14 20:08:55.741  \n",
            "0               14.823  0.006440     0.010 2023-11-10 19:41:58.190  \n",
            "2               11.982  0.005572     0.008 2023-11-16 06:09:36.351  \n",
            "50              10.211  0.005290     0.039 2023-11-12 20:48:45.641  \n",
            "21               4.993  0.005288     0.021 2023-11-11 06:52:55.953  \n",
            "15              10.408  0.004779     0.025 2023-11-14 02:58:29.069  \n",
            "1               14.114  0.004623     0.011 2023-11-16 14:43:00.723  \n",
            "10              13.988  0.004491     0.032 2023-11-10 22:12:27.701  \n",
            "20              10.270  0.004282     0.026 2023-11-10 00:05:41.538  \n"
          ]
        }
      ]
    },
    {
      "cell_type": "code",
      "source": [
        "# Define the satellite name\n",
        "satellite_name = 'Satellite_Name'\n",
        "\n",
        "# Filter data for a specific satellite\n",
        "filtered_df = df[(df['OBJECT_NAME_1'] == satellite_name) | (df['OBJECT_NAME_2'] == satellite_name)]\n",
        "\n",
        "# Convert 'TCA' to datetime\n",
        "filtered_df['TCA'] = pd.to_datetime(filtered_df['TCA'])\n",
        "\n",
        "# Sort DataFrame by 'TCA'\n",
        "filtered_df = filtered_df.sort_values(by='TCA')\n",
        "\n",
        "# Plot the number of conjunctions over time\n",
        "plt.figure(figsize=(12, 6))\n",
        "plt.plot(filtered_df['TCA'], range(len(filtered_df)), marker='o', linestyle='-', color='b')\n",
        "plt.title(f'Time of Closest Approach Analysis for {satellite_name}')\n",
        "plt.xlabel('Time of Closest Approach (UTC)')\n",
        "plt.ylabel('Number of Conjunctions')\n",
        "plt.show()\n",
        "\n",
        "# Display additional relevant information\n",
        "print(f\"Total Conjunctions for {satellite_name}: {len(filtered_df)}\")\n",
        "print(f\"Maximum Probability: {filtered_df['MAX_PROB'].max()}\")\n",
        "print(f\"Average Relative Speed: {filtered_df['TCA_RELATIVE_SPEED'].mean()}\")\n",
        "print(f\"Minimum Range: {filtered_df['TCA_RANGE'].min()} km\")\n"
      ],
      "metadata": {
        "colab": {
          "base_uri": "https://localhost:8080/",
          "height": 626
        },
        "id": "lj_lp4dSNXlr",
        "outputId": "b4dfe1a9-c703-41ab-b71b-66e69b955cc2"
      },
      "execution_count": 34,
      "outputs": [
        {
          "output_type": "display_data",
          "data": {
            "text/plain": [
              "<Figure size 1200x600 with 1 Axes>"
            ],
            "image/png": "[encoded data removed]"
          },
          "metadata": {}
        },
        {
          "output_type": "stream",
          "name": "stdout",
          "text": [
            "Total Conjunctions for Satellite_Name: 0\n",
            "Maximum Probability: nan\n",
            "Average Relative Speed: nan\n",
            "Minimum Range: nan km\n"
          ]
        }
      ]
    },
    {
      "cell_type": "markdown",
      "source": [
        "#B) Represent the conjunctions data of a single satellite or a satellite constellation.The analytics should be intuitive, represented in an easily understandable format and should enable decision making from a satellite operator’s point of view."
      ],
      "metadata": {
        "id": "HtD74AuedZE1"
      }
    },
    {
      "cell_type": "code",
      "source": [
        "pip install mplcursors"
      ],
      "metadata": {
        "colab": {
          "base_uri": "https://localhost:8080/"
        },
        "id": "r5pD6DahdHgP",
        "outputId": "8d514802-f304-4c77-943d-768da2a279b8"
      },
      "execution_count": 35,
      "outputs": [
        {
          "output_type": "stream",
          "name": "stdout",
          "text": [
            "Collecting mplcursors\n",
            "  Downloading mplcursors-0.5.2.tar.gz (89 kB)\n",
            "\u001b[?25l     \u001b[90m━━━━━━━━━━━━━━━━━━━━━━━━━━━━━━━━━━━━━━━━\u001b[0m \u001b[32m0.0/89.0 kB\u001b[0m \u001b[31m?\u001b[0m eta \u001b[36m-:--:--\u001b[0m\r\u001b[2K     \u001b[91m━━━━━━━━━━━━━━━━━━━━━━━━━━━━━━━━━━━━\u001b[0m\u001b[91m╸\u001b[0m\u001b[90m━━━\u001b[0m \u001b[32m81.9/89.0 kB\u001b[0m \u001b[31m2.5 MB/s\u001b[0m eta \u001b[36m0:00:01\u001b[0m\r\u001b[2K     \u001b[90m━━━━━━━━━━━━━━━━━━━━━━━━━━━━━━━━━━━━━━━━\u001b[0m \u001b[32m89.0/89.0 kB\u001b[0m \u001b[31m2.0 MB/s\u001b[0m eta \u001b[36m0:00:00\u001b[0m\n",
            "\u001b[?25h  Preparing metadata (setup.py) ... \u001b[?25l\u001b[?25hdone\n",
            "Requirement already satisfied: matplotlib>=3.1 in /usr/local/lib/python3.10/dist-packages (from mplcursors) (3.7.1)\n",
            "Requirement already satisfied: contourpy>=1.0.1 in /usr/local/lib/python3.10/dist-packages (from matplotlib>=3.1->mplcursors) (1.2.0)\n",
            "Requirement already satisfied: cycler>=0.10 in /usr/local/lib/python3.10/dist-packages (from matplotlib>=3.1->mplcursors) (0.12.1)\n",
            "Requirement already satisfied: fonttools>=4.22.0 in /usr/local/lib/python3.10/dist-packages (from matplotlib>=3.1->mplcursors) (4.44.0)\n",
            "Requirement already satisfied: kiwisolver>=1.0.1 in /usr/local/lib/python3.10/dist-packages (from matplotlib>=3.1->mplcursors) (1.4.5)\n",
            "Requirement already satisfied: numpy>=1.20 in /usr/local/lib/python3.10/dist-packages (from matplotlib>=3.1->mplcursors) (1.23.5)\n",
            "Requirement already satisfied: packaging>=20.0 in /usr/local/lib/python3.10/dist-packages (from matplotlib>=3.1->mplcursors) (23.2)\n",
            "Requirement already satisfied: pillow>=6.2.0 in /usr/local/lib/python3.10/dist-packages (from matplotlib>=3.1->mplcursors) (9.4.0)\n",
            "Requirement already satisfied: pyparsing>=2.3.1 in /usr/local/lib/python3.10/dist-packages (from matplotlib>=3.1->mplcursors) (3.1.1)\n",
            "Requirement already satisfied: python-dateutil>=2.7 in /usr/local/lib/python3.10/dist-packages (from matplotlib>=3.1->mplcursors) (2.8.2)\n",
            "Requirement already satisfied: six>=1.5 in /usr/local/lib/python3.10/dist-packages (from python-dateutil>=2.7->matplotlib>=3.1->mplcursors) (1.16.0)\n",
            "Building wheels for collected packages: mplcursors\n",
            "  Building wheel for mplcursors (setup.py) ... \u001b[?25l\u001b[?25hdone\n",
            "  Created wheel for mplcursors: filename=mplcursors-0.5.2-py3-none-any.whl size=21168 sha256=e510af3da2e12cd14f9d8e2d0d26f130ecca85a1435c016e9627b14ec02de2e3\n",
            "  Stored in directory: /root/.cache/pip/wheels/b5/5b/fb/aed35cc15262c380536820fa3cb2e2d41fb52450de918a6785\n",
            "Successfully built mplcursors\n",
            "Installing collected packages: mplcursors\n",
            "Successfully installed mplcursors-0.5.2\n"
          ]
        }
      ]
    },
    {
      "cell_type": "code",
      "source": [
        "import mplcursors\n",
        "\n",
        "# Filter data for a specific satellite\n",
        "satellite_name = 'Satellite_Name'\n",
        "filtered_df = df[(df['OBJECT_NAME_1'] == satellite_name) | (df['OBJECT_NAME_2'] == satellite_name)]\n",
        "\n",
        "# Create a scatter plot with tooltips\n",
        "plt.figure(figsize=(12, 6))\n",
        "scatter = plt.scatter(filtered_df['TCA'], range(len(filtered_df)), c=filtered_df['MAX_PROB'], cmap='viridis', s=50, alpha=0.7)\n",
        "plt.title(f'Conjunction Analysis for {satellite_name}')\n",
        "plt.xlabel('Time of Closest Approach (UTC)')\n",
        "plt.ylabel('Conjunction Index')\n",
        "\n",
        "# Add colorbar\n",
        "cbar = plt.colorbar(scatter, label='Maximum Probability')\n",
        "\n",
        "# Add tooltips\n",
        "cursor = mplcursors.cursor(scatter, hover=True)\n",
        "cursor.connect(\"add\", lambda sel: sel.annotation.set_text(\n",
        "    f\"Index: {sel.target[0]:.0f}\\nMax Probability: {filtered_df.iloc[int(sel.target[0])]['MAX_PROB']:.4f}\\n\"\n",
        "    f\"Relative Speed: {filtered_df.iloc[int(sel.target[0])]['TCA_RELATIVE_SPEED']:.4f} km/s\\n\"\n",
        "    f\"Range: {filtered_df.iloc[int(sel.target[0])]['TCA_RANGE']:.4f} km\"\n",
        "))\n",
        "\n",
        "plt.show()\n"
      ],
      "metadata": {
        "colab": {
          "base_uri": "https://localhost:8080/",
          "height": 557
        },
        "id": "YKeImZbPcfAZ",
        "outputId": "48813a91-1825-498c-906c-897929cd17a0"
      },
      "execution_count": 36,
      "outputs": [
        {
          "output_type": "display_data",
          "data": {
            "text/plain": [
              "<Figure size 1200x600 with 2 Axes>"
            ],
            "image/png": "[encoded data removed]"
          },
          "metadata": {}
        }
      ]
    },
    {
      "cell_type": "markdown",
      "source": [
        "#Question 2\n",
        "Use the whole dataset that spans about five days. Derive analytics and visualise the\n",
        "data/analytics accounting for the evolution from the first day (for e.g. the number of\n",
        "conjunctions of the RSO having NORAD ID 12345 over 7 days of analysis)"
      ],
      "metadata": {
        "id": "mYni4z4fd5gG"
      }
    },
    {
      "cell_type": "code",
      "source": [
        "# Convert 'DSE' to timedelta for time-based analysis\n",
        "df['DSE'] = pd.to_timedelta(df['DSE_1'], unit='D')\n",
        "\n",
        "# Set the time range for the analysis (replace with the actual start and end times)\n",
        "start_time = pd.to_timedelta(0, unit='D')  # Start time (0 days)\n",
        "end_time = pd.to_timedelta(5, unit='D')  # End time (5 days)\n",
        "\n",
        "# Filter data for the specified time range\n",
        "filtered_df = df[(df['DSE_1'] >= 0.144) & (df['DSE_1'] <= 32.001)]\n",
        "\n",
        "# Display the extracted dataset\n",
        "print(filtered_df)\n"
      ],
      "metadata": {
        "colab": {
          "base_uri": "https://localhost:8080/"
        },
        "id": "JV3a7MNAc9iO",
        "outputId": "782ade2d-e64e-4851-f83c-49ca274684c7"
      },
      "execution_count": 37,
      "outputs": [
        {
          "output_type": "stream",
          "name": "stdout",
          "text": [
            "       NORAD_CAT_ID_1          OBJECT_NAME_1  DSE_1  NORAD_CAT_ID_2  \\\n",
            "29034           42959        IRIDIUM 119 [+]  0.609           42116   \n",
            "30317           58141      YAOGAN-39 04A [+]  0.860           27692   \n",
            "20747           56535      STARLINK-6309 [+]  0.421           39432   \n",
            "40998           48273  LEMUR-2-SPECIAL-K [+]  0.816           34055   \n",
            "15756           57018           OBJECT Q [+]  0.512           40602   \n",
            "...               ...                    ...    ...             ...   \n",
            "37122           43480        IRIDIUM 147 [+]  7.417           20439   \n",
            "41998           58117     STARLINK-30601 [+]  7.166           43014   \n",
            "67537           42837  LEMUR-2-GREENBERG [+]  7.508           55656   \n",
            "38780           39089            NEOSSAT [+]  7.490           57577   \n",
            "54489           47539        FLOCK 4S-24 [+]  7.869           52418   \n",
            "\n",
            "               OBJECT_NAME_2   DSE_2                     TCA  TCA_RANGE  \\\n",
            "29034    COSMOS 1275 DEB [-]   1.975 2023-11-10 00:00:00.716      3.250   \n",
            "30317        DELTA 4 R/B [-]   0.781 2023-11-10 00:00:23.404      3.321   \n",
            "20747            ICUBE-1 [-]   0.541 2023-11-10 00:00:28.521      2.751   \n",
            "40998    COSMOS 2251 DEB [-]   0.522 2023-11-10 00:00:35.970      3.860   \n",
            "15756  DMSP 5D-2 F13 DEB [-]   2.715 2023-11-10 00:00:39.320      2.389   \n",
            "...                      ...     ...                     ...        ...   \n",
            "37122     PACSAT (AO-16) [-]   7.391 2023-11-16 23:58:56.610      3.675   \n",
            "41998      BUCCANEER RMM [-]   7.407 2023-11-16 23:59:13.122      3.906   \n",
            "67537      STARLINK-5326 [+]   7.445 2023-11-16 23:59:29.802      4.964   \n",
            "38780          CZ-6A DEB [-]  10.979 2023-11-16 23:59:38.942      3.755   \n",
            "54489             TRSI-3 [+]   7.802 2023-11-16 23:59:50.867      4.457   \n",
            "\n",
            "       TCA_RELATIVE_SPEED      MAX_PROB  DILUTION         ConjunctionTime  \\\n",
            "29034               3.618  4.068000e-07     0.787 2023-11-10 00:00:00.716   \n",
            "30317               6.530  3.649000e-07     0.859 2023-11-10 00:00:23.404   \n",
            "20747              13.380  3.242000e-07     1.167 2023-11-10 00:00:28.521   \n",
            "40998               7.418  2.629000e-07     1.026 2023-11-10 00:00:35.970   \n",
            "15756               2.510  7.642000e-07     0.570 2023-11-10 00:00:39.320   \n",
            "...                   ...           ...       ...                     ...   \n",
            "37122              14.830  5.571000e-08     2.462 2023-11-16 23:58:56.610   \n",
            "41998              11.468  2.051000e-07     1.299 2023-11-16 23:59:13.122   \n",
            "67537               3.614  1.571000e-06     1.201 2023-11-16 23:59:29.802   \n",
            "38780              14.702  1.159000e-07     2.390 2023-11-16 23:59:38.942   \n",
            "54489               3.255  1.067000e-07     1.073 2023-11-16 23:59:50.867   \n",
            "\n",
            "                         DSE  \n",
            "29034 0 days 14:36:57.600000  \n",
            "30317        0 days 20:38:24  \n",
            "20747 0 days 10:06:14.400000  \n",
            "40998 0 days 19:35:02.400000  \n",
            "15756 0 days 12:17:16.800000  \n",
            "...                      ...  \n",
            "37122 7 days 10:00:28.800000  \n",
            "41998 7 days 03:59:02.400000  \n",
            "67537 7 days 12:11:31.200000  \n",
            "38780        7 days 11:45:36  \n",
            "54489 7 days 20:51:21.600000  \n",
            "\n",
            "[68511 rows x 13 columns]\n"
          ]
        }
      ]
    },
    {
      "cell_type": "code",
      "source": [
        "# Inspect the 'TCA' column to find the time range\n",
        "earliest_date = df['TCA'].min()\n",
        "latest_date = df['TCA'].max()\n",
        "\n",
        "# Determine the start and end dates\n",
        "start_date = earliest_date\n",
        "end_date = latest_date\n",
        "\n",
        "# Print the start and end dates for reference\n",
        "print(\"Start Date:\", start_date)\n",
        "print(\"End Date:\", end_date)"
      ],
      "metadata": {
        "colab": {
          "base_uri": "https://localhost:8080/"
        },
        "id": "fpBlvnqqTv_i",
        "outputId": "86c3e73b-161a-4d33-8232-b106fe99d731"
      },
      "execution_count": 57,
      "outputs": [
        {
          "output_type": "stream",
          "name": "stdout",
          "text": [
            "Start Date: 2023-11-10 00:00:00.716000\n",
            "End Date: 2023-11-16 23:59:50.867000\n"
          ]
        }
      ]
    },
    {
      "cell_type": "code",
      "source": [
        "# Filter Data for the Desired Time Frame\n",
        "start_date = pd.to_datetime(\"2023-11-10 00:00:00.716000\")\n",
        "end_date = pd.to_datetime(\"2023-11-16 23:59:50.867000\")\n",
        "filtered_df = df[(df['TCA'] >= start_date) & (df['TCA'] <= end_date)]\n",
        "\n",
        "# Filter Data for Specific NORAD Catalog Number\n",
        "norad_12345_df = filtered_df[(filtered_df['NORAD_CAT_ID_1'] == 12345) | (filtered_df['NORAD_CAT_ID_2'] == 12345)]\n",
        "\n",
        "# Group Data by Date and Count Conjunctions per Day\n",
        "conjunctions_per_day = norad_12345_df.groupby(norad_12345_df['TCA'].dt.date).size().reset_index(name='NumConjunctions')\n",
        "\n",
        "# Visualize the Evolution\n",
        "plt.figure(figsize=(12, 8))\n",
        "plt.plot(conjunctions_per_day['TCA'], conjunctions_per_day['NumConjunctions'], marker='o', linestyle='-')\n",
        "plt.title('Evolution of Conjunctions for NORAD ID 12345')\n",
        "plt.xlabel('Date')\n",
        "plt.ylabel('Number of Conjunctions')\n",
        "plt.xticks(rotation=30)\n",
        "plt.grid(True)\n",
        "plt.tight_layout()\n",
        "plt.show()"
      ],
      "metadata": {
        "colab": {
          "base_uri": "https://localhost:8080/",
          "height": 807
        },
        "id": "AhV5g-_gRDVV",
        "outputId": "5bcb5c39-3258-43cf-8793-31117a41cec0"
      },
      "execution_count": 58,
      "outputs": [
        {
          "output_type": "display_data",
          "data": {
            "text/plain": [
              "<Figure size 1200x800 with 1 Axes>"
            ],
            "image/png": "[encoded data removed]"
          },
          "metadata": {}
        }
      ]
    }
  ]
}